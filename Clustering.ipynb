{
  "nbformat": 4,
  "nbformat_minor": 0,
  "metadata": {
    "colab": {
      "name": "Clustering.ipynb",
      "provenance": [],
      "collapsed_sections": [],
      "toc_visible": true
    },
    "kernelspec": {
      "name": "python3",
      "display_name": "Python 3"
    }
  },
  "cells": [
    {
      "cell_type": "code",
      "metadata": {
        "id": "OE3WT1G9W_m6"
      },
      "source": [
        "import numpy as np\r\n",
        "import pandas as pd\r\n",
        "import matplotlib.pyplot as plt "
      ],
      "execution_count": null,
      "outputs": []
    },
    {
      "cell_type": "markdown",
      "metadata": {
        "id": "p9sQyf78pUUz"
      },
      "source": [
        "# New Section"
      ]
    },
    {
      "cell_type": "code",
      "metadata": {
        "id": "VTuFP2JsXYp5"
      },
      "source": [
        "dataset = pd.read_csv('nikhil.csv')"
      ],
      "execution_count": null,
      "outputs": []
    },
    {
      "cell_type": "code",
      "metadata": {
        "colab": {
          "base_uri": "https://localhost:8080/",
          "height": 456
        },
        "id": "ysKDPtZKXcx3",
        "outputId": "0e5c5a29-0ef1-428f-da29-db0f7736aac3"
      },
      "source": [
        "dataset"
      ],
      "execution_count": null,
      "outputs": [
        {
          "output_type": "execute_result",
          "data": {
            "text/html": [
              "<div>\n",
              "<style scoped>\n",
              "    .dataframe tbody tr th:only-of-type {\n",
              "        vertical-align: middle;\n",
              "    }\n",
              "\n",
              "    .dataframe tbody tr th {\n",
              "        vertical-align: top;\n",
              "    }\n",
              "\n",
              "    .dataframe thead th {\n",
              "        text-align: right;\n",
              "    }\n",
              "</style>\n",
              "<table border=\"1\" class=\"dataframe\">\n",
              "  <thead>\n",
              "    <tr style=\"text-align: right;\">\n",
              "      <th></th>\n",
              "      <th>a</th>\n",
              "      <th>Confirmed</th>\n",
              "      <th>No_HH</th>\n",
              "      <th>Code</th>\n",
              "      <th>Active</th>\n",
              "      <th>Recovered</th>\n",
              "      <th>Deceased</th>\n",
              "      <th>TOT_P</th>\n",
              "      <th>P_LIT</th>\n",
              "      <th>TOT_WORK_P</th>\n",
              "      <th>Total_number_of_households_1</th>\n",
              "      <th>Total_number_of_households_2</th>\n",
              "      <th>Total_number_of_households_3</th>\n",
              "      <th>Total_number_of_households_4</th>\n",
              "      <th>Total_number_of_households_5</th>\n",
              "      <th>Total_number_of_households_6-8</th>\n",
              "      <th>Total_number_of_households_9+</th>\n",
              "      <th>percentage_within_premises</th>\n",
              "      <th>percentage_alternative_public</th>\n",
              "      <th>percentage_alternative_open</th>\n",
              "      <th>Total_households</th>\n",
              "      <th>pop_above60</th>\n",
              "      <th>Total_Households_with_None_Workers</th>\n",
              "      <th>Total_workers_in_households_with_one_workers</th>\n",
              "    </tr>\n",
              "  </thead>\n",
              "  <tbody>\n",
              "    <tr>\n",
              "      <th>0</th>\n",
              "      <td>0</td>\n",
              "      <td>5631</td>\n",
              "      <td>113929</td>\n",
              "      <td>1</td>\n",
              "      <td>58</td>\n",
              "      <td>5479</td>\n",
              "      <td>94</td>\n",
              "      <td>870354</td>\n",
              "      <td>439654</td>\n",
              "      <td>229064</td>\n",
              "      <td>911</td>\n",
              "      <td>4036</td>\n",
              "      <td>6396</td>\n",
              "      <td>10700</td>\n",
              "      <td>14886</td>\n",
              "      <td>42727</td>\n",
              "      <td>27121</td>\n",
              "      <td>0.508864</td>\n",
              "      <td>0.077910</td>\n",
              "      <td>0.413226</td>\n",
              "      <td>112761</td>\n",
              "      <td>49047</td>\n",
              "      <td>9307</td>\n",
              "      <td>58374</td>\n",
              "    </tr>\n",
              "    <tr>\n",
              "      <th>1</th>\n",
              "      <td>1</td>\n",
              "      <td>7565</td>\n",
              "      <td>21909</td>\n",
              "      <td>3</td>\n",
              "      <td>73</td>\n",
              "      <td>7408</td>\n",
              "      <td>84</td>\n",
              "      <td>133487</td>\n",
              "      <td>93770</td>\n",
              "      <td>75079</td>\n",
              "      <td>1630</td>\n",
              "      <td>1483</td>\n",
              "      <td>2302</td>\n",
              "      <td>4422</td>\n",
              "      <td>3804</td>\n",
              "      <td>5378</td>\n",
              "      <td>1758</td>\n",
              "      <td>0.903884</td>\n",
              "      <td>0.010396</td>\n",
              "      <td>0.085720</td>\n",
              "      <td>21435</td>\n",
              "      <td>11489</td>\n",
              "      <td>1697</td>\n",
              "      <td>6085</td>\n",
              "    </tr>\n",
              "    <tr>\n",
              "      <th>2</th>\n",
              "      <td>2</td>\n",
              "      <td>2103</td>\n",
              "      <td>18338</td>\n",
              "      <td>4</td>\n",
              "      <td>4</td>\n",
              "      <td>2055</td>\n",
              "      <td>44</td>\n",
              "      <td>140802</td>\n",
              "      <td>86236</td>\n",
              "      <td>51873</td>\n",
              "      <td>689</td>\n",
              "      <td>834</td>\n",
              "      <td>983</td>\n",
              "      <td>1652</td>\n",
              "      <td>2356</td>\n",
              "      <td>6832</td>\n",
              "      <td>4866</td>\n",
              "      <td>0.969086</td>\n",
              "      <td>0.004448</td>\n",
              "      <td>0.026466</td>\n",
              "      <td>18017</td>\n",
              "      <td>9343</td>\n",
              "      <td>1255</td>\n",
              "      <td>6370</td>\n",
              "    </tr>\n",
              "    <tr>\n",
              "      <th>3</th>\n",
              "      <td>3</td>\n",
              "      <td>2485</td>\n",
              "      <td>90261</td>\n",
              "      <td>5</td>\n",
              "      <td>30</td>\n",
              "      <td>2431</td>\n",
              "      <td>24</td>\n",
              "      <td>476835</td>\n",
              "      <td>261724</td>\n",
              "      <td>161393</td>\n",
              "      <td>1531</td>\n",
              "      <td>7435</td>\n",
              "      <td>10664</td>\n",
              "      <td>15825</td>\n",
              "      <td>18028</td>\n",
              "      <td>31443</td>\n",
              "      <td>3952</td>\n",
              "      <td>0.186615</td>\n",
              "      <td>0.020500</td>\n",
              "      <td>0.792885</td>\n",
              "      <td>89907</td>\n",
              "      <td>33381</td>\n",
              "      <td>7661</td>\n",
              "      <td>43710</td>\n",
              "    </tr>\n",
              "    <tr>\n",
              "      <th>4</th>\n",
              "      <td>4</td>\n",
              "      <td>3864</td>\n",
              "      <td>130401</td>\n",
              "      <td>6</td>\n",
              "      <td>7</td>\n",
              "      <td>3802</td>\n",
              "      <td>55</td>\n",
              "      <td>642415</td>\n",
              "      <td>364109</td>\n",
              "      <td>290912</td>\n",
              "      <td>2107</td>\n",
              "      <td>12777</td>\n",
              "      <td>18069</td>\n",
              "      <td>25803</td>\n",
              "      <td>26161</td>\n",
              "      <td>35702</td>\n",
              "      <td>3381</td>\n",
              "      <td>0.143371</td>\n",
              "      <td>0.013839</td>\n",
              "      <td>0.842790</td>\n",
              "      <td>129528</td>\n",
              "      <td>45048</td>\n",
              "      <td>9142</td>\n",
              "      <td>39185</td>\n",
              "    </tr>\n",
              "    <tr>\n",
              "      <th>...</th>\n",
              "      <td>...</td>\n",
              "      <td>...</td>\n",
              "      <td>...</td>\n",
              "      <td>...</td>\n",
              "      <td>...</td>\n",
              "      <td>...</td>\n",
              "      <td>...</td>\n",
              "      <td>...</td>\n",
              "      <td>...</td>\n",
              "      <td>...</td>\n",
              "      <td>...</td>\n",
              "      <td>...</td>\n",
              "      <td>...</td>\n",
              "      <td>...</td>\n",
              "      <td>...</td>\n",
              "      <td>...</td>\n",
              "      <td>...</td>\n",
              "      <td>...</td>\n",
              "      <td>...</td>\n",
              "      <td>...</td>\n",
              "      <td>...</td>\n",
              "      <td>...</td>\n",
              "      <td>...</td>\n",
              "      <td>...</td>\n",
              "    </tr>\n",
              "    <tr>\n",
              "      <th>597</th>\n",
              "      <td>597</td>\n",
              "      <td>1942</td>\n",
              "      <td>7420</td>\n",
              "      <td>636</td>\n",
              "      <td>71</td>\n",
              "      <td>1862</td>\n",
              "      <td>9</td>\n",
              "      <td>41816</td>\n",
              "      <td>36470</td>\n",
              "      <td>11802</td>\n",
              "      <td>185</td>\n",
              "      <td>402</td>\n",
              "      <td>821</td>\n",
              "      <td>1655</td>\n",
              "      <td>1083</td>\n",
              "      <td>1709</td>\n",
              "      <td>1342</td>\n",
              "      <td>0.978324</td>\n",
              "      <td>0.015284</td>\n",
              "      <td>0.006392</td>\n",
              "      <td>7403</td>\n",
              "      <td>5015</td>\n",
              "      <td>1239</td>\n",
              "      <td>2891</td>\n",
              "    </tr>\n",
              "    <tr>\n",
              "      <th>598</th>\n",
              "      <td>598</td>\n",
              "      <td>3849</td>\n",
              "      <td>49705</td>\n",
              "      <td>637</td>\n",
              "      <td>24</td>\n",
              "      <td>3761</td>\n",
              "      <td>64</td>\n",
              "      <td>200222</td>\n",
              "      <td>154916</td>\n",
              "      <td>68301</td>\n",
              "      <td>2894</td>\n",
              "      <td>5828</td>\n",
              "      <td>9084</td>\n",
              "      <td>15087</td>\n",
              "      <td>9435</td>\n",
              "      <td>6876</td>\n",
              "      <td>864</td>\n",
              "      <td>0.605696</td>\n",
              "      <td>0.032656</td>\n",
              "      <td>0.361648</td>\n",
              "      <td>49642</td>\n",
              "      <td>19327</td>\n",
              "      <td>5141</td>\n",
              "      <td>27633</td>\n",
              "    </tr>\n",
              "    <tr>\n",
              "      <th>599</th>\n",
              "      <td>599</td>\n",
              "      <td>0</td>\n",
              "      <td>9288</td>\n",
              "      <td>638</td>\n",
              "      <td>0</td>\n",
              "      <td>0</td>\n",
              "      <td>0</td>\n",
              "      <td>36842</td>\n",
              "      <td>25332</td>\n",
              "      <td>17125</td>\n",
              "      <td>960</td>\n",
              "      <td>1442</td>\n",
              "      <td>1954</td>\n",
              "      <td>2326</td>\n",
              "      <td>1499</td>\n",
              "      <td>1443</td>\n",
              "      <td>335</td>\n",
              "      <td>0.808816</td>\n",
              "      <td>0.008133</td>\n",
              "      <td>0.183051</td>\n",
              "      <td>9214</td>\n",
              "      <td>2648</td>\n",
              "      <td>951</td>\n",
              "      <td>4245</td>\n",
              "    </tr>\n",
              "    <tr>\n",
              "      <th>600</th>\n",
              "      <td>600</td>\n",
              "      <td>1</td>\n",
              "      <td>26199</td>\n",
              "      <td>639</td>\n",
              "      <td>0</td>\n",
              "      <td>1</td>\n",
              "      <td>0</td>\n",
              "      <td>105597</td>\n",
              "      <td>78683</td>\n",
              "      <td>38579</td>\n",
              "      <td>2124</td>\n",
              "      <td>2847</td>\n",
              "      <td>4593</td>\n",
              "      <td>7087</td>\n",
              "      <td>4587</td>\n",
              "      <td>4324</td>\n",
              "      <td>765</td>\n",
              "      <td>0.482546</td>\n",
              "      <td>0.009420</td>\n",
              "      <td>0.508034</td>\n",
              "      <td>26141</td>\n",
              "      <td>8998</td>\n",
              "      <td>1610</td>\n",
              "      <td>14891</td>\n",
              "    </tr>\n",
              "    <tr>\n",
              "      <th>601</th>\n",
              "      <td>601</td>\n",
              "      <td>51</td>\n",
              "      <td>59064</td>\n",
              "      <td>640</td>\n",
              "      <td>19</td>\n",
              "      <td>32</td>\n",
              "      <td>0</td>\n",
              "      <td>238142</td>\n",
              "      <td>190266</td>\n",
              "      <td>96831</td>\n",
              "      <td>3697</td>\n",
              "      <td>6292</td>\n",
              "      <td>10821</td>\n",
              "      <td>17063</td>\n",
              "      <td>9661</td>\n",
              "      <td>7706</td>\n",
              "      <td>1850</td>\n",
              "      <td>0.782817</td>\n",
              "      <td>0.034262</td>\n",
              "      <td>0.182922</td>\n",
              "      <td>58798</td>\n",
              "      <td>13714</td>\n",
              "      <td>2704</td>\n",
              "      <td>32753</td>\n",
              "    </tr>\n",
              "  </tbody>\n",
              "</table>\n",
              "<p>602 rows × 24 columns</p>\n",
              "</div>"
            ],
            "text/plain": [
              "       a  ...  Total_workers_in_households_with_one_workers\n",
              "0      0  ...                                         58374\n",
              "1      1  ...                                          6085\n",
              "2      2  ...                                          6370\n",
              "3      3  ...                                         43710\n",
              "4      4  ...                                         39185\n",
              "..   ...  ...                                           ...\n",
              "597  597  ...                                          2891\n",
              "598  598  ...                                         27633\n",
              "599  599  ...                                          4245\n",
              "600  600  ...                                         14891\n",
              "601  601  ...                                         32753\n",
              "\n",
              "[602 rows x 24 columns]"
            ]
          },
          "metadata": {
            "tags": []
          },
          "execution_count": 25
        }
      ]
    },
    {
      "cell_type": "code",
      "metadata": {
        "colab": {
          "base_uri": "https://localhost:8080/"
        },
        "id": "g8FS6G4eaJaK",
        "outputId": "1179af5a-b5de-4b1b-f5d8-bffc9cd0a3c5"
      },
      "source": [
        "dataset.columns"
      ],
      "execution_count": null,
      "outputs": [
        {
          "output_type": "execute_result",
          "data": {
            "text/plain": [
              "Index(['a', 'Confirmed', 'No_HH', 'Code', 'Active', 'Recovered', 'Deceased',\n",
              "       'TOT_P', 'P_LIT', 'TOT_WORK_P', 'Total_number_of_households_1',\n",
              "       'Total_number_of_households_2', 'Total_number_of_households_3',\n",
              "       'Total_number_of_households_4', 'Total_number_of_households_5',\n",
              "       'Total_number_of_households_6-8', 'Total_number_of_households_9+',\n",
              "       'percentage_within_premises', 'percentage_alternative_public',\n",
              "       'percentage_alternative_open', 'Total_households', 'pop_above60',\n",
              "       'Total_Households_with_None_Workers',\n",
              "       'Total_workers_in_households_with_one_workers'],\n",
              "      dtype='object')"
            ]
          },
          "metadata": {
            "tags": []
          },
          "execution_count": 26
        }
      ]
    },
    {
      "cell_type": "code",
      "metadata": {
        "id": "c4KdjOC6aF-C"
      },
      "source": [
        "dataset = dataset.drop(['a', 'No_HH',   'Code',           'Active',\r\n",
        "              'Recovered',\r\n",
        "              'Total_number_of_households_1',\r\n",
        "              'Total_number_of_households_2',\r\n",
        "              'Total_number_of_households_3',\r\n",
        "              'Total_number_of_households_4',\r\n",
        "              'Total_number_of_households_5',\r\n",
        "              'Total_number_of_households_6-8',\r\n",
        "              'Total_number_of_households_9+',\r\n",
        "              'percentage_within_premises',\r\n",
        "              'percentage_alternative_public',\r\n",
        "              'percentage_alternative_open',\r\n",
        "              'Total_households',\r\n",
        "              'pop_above60',\r\n",
        "              'Total_Households_with_None_Workers',\r\n",
        "              'Total_workers_in_households_with_one_workers',], axis = 1)"
      ],
      "execution_count": null,
      "outputs": []
    },
    {
      "cell_type": "code",
      "metadata": {
        "colab": {
          "base_uri": "https://localhost:8080/",
          "height": 419
        },
        "id": "h8gAgnpgXdeg",
        "outputId": "d8d72028-ba76-431b-da5e-52521392e554"
      },
      "source": [
        "dataset"
      ],
      "execution_count": null,
      "outputs": [
        {
          "output_type": "execute_result",
          "data": {
            "text/html": [
              "<div>\n",
              "<style scoped>\n",
              "    .dataframe tbody tr th:only-of-type {\n",
              "        vertical-align: middle;\n",
              "    }\n",
              "\n",
              "    .dataframe tbody tr th {\n",
              "        vertical-align: top;\n",
              "    }\n",
              "\n",
              "    .dataframe thead th {\n",
              "        text-align: right;\n",
              "    }\n",
              "</style>\n",
              "<table border=\"1\" class=\"dataframe\">\n",
              "  <thead>\n",
              "    <tr style=\"text-align: right;\">\n",
              "      <th></th>\n",
              "      <th>Confirmed</th>\n",
              "      <th>Deceased</th>\n",
              "      <th>TOT_P</th>\n",
              "      <th>P_LIT</th>\n",
              "      <th>TOT_WORK_P</th>\n",
              "    </tr>\n",
              "  </thead>\n",
              "  <tbody>\n",
              "    <tr>\n",
              "      <th>0</th>\n",
              "      <td>5631</td>\n",
              "      <td>94</td>\n",
              "      <td>870354</td>\n",
              "      <td>439654</td>\n",
              "      <td>229064</td>\n",
              "    </tr>\n",
              "    <tr>\n",
              "      <th>1</th>\n",
              "      <td>7565</td>\n",
              "      <td>84</td>\n",
              "      <td>133487</td>\n",
              "      <td>93770</td>\n",
              "      <td>75079</td>\n",
              "    </tr>\n",
              "    <tr>\n",
              "      <th>2</th>\n",
              "      <td>2103</td>\n",
              "      <td>44</td>\n",
              "      <td>140802</td>\n",
              "      <td>86236</td>\n",
              "      <td>51873</td>\n",
              "    </tr>\n",
              "    <tr>\n",
              "      <th>3</th>\n",
              "      <td>2485</td>\n",
              "      <td>24</td>\n",
              "      <td>476835</td>\n",
              "      <td>261724</td>\n",
              "      <td>161393</td>\n",
              "    </tr>\n",
              "    <tr>\n",
              "      <th>4</th>\n",
              "      <td>3864</td>\n",
              "      <td>55</td>\n",
              "      <td>642415</td>\n",
              "      <td>364109</td>\n",
              "      <td>290912</td>\n",
              "    </tr>\n",
              "    <tr>\n",
              "      <th>...</th>\n",
              "      <td>...</td>\n",
              "      <td>...</td>\n",
              "      <td>...</td>\n",
              "      <td>...</td>\n",
              "      <td>...</td>\n",
              "    </tr>\n",
              "    <tr>\n",
              "      <th>597</th>\n",
              "      <td>1942</td>\n",
              "      <td>9</td>\n",
              "      <td>41816</td>\n",
              "      <td>36470</td>\n",
              "      <td>11802</td>\n",
              "    </tr>\n",
              "    <tr>\n",
              "      <th>598</th>\n",
              "      <td>3849</td>\n",
              "      <td>64</td>\n",
              "      <td>200222</td>\n",
              "      <td>154916</td>\n",
              "      <td>68301</td>\n",
              "    </tr>\n",
              "    <tr>\n",
              "      <th>599</th>\n",
              "      <td>0</td>\n",
              "      <td>0</td>\n",
              "      <td>36842</td>\n",
              "      <td>25332</td>\n",
              "      <td>17125</td>\n",
              "    </tr>\n",
              "    <tr>\n",
              "      <th>600</th>\n",
              "      <td>1</td>\n",
              "      <td>0</td>\n",
              "      <td>105597</td>\n",
              "      <td>78683</td>\n",
              "      <td>38579</td>\n",
              "    </tr>\n",
              "    <tr>\n",
              "      <th>601</th>\n",
              "      <td>51</td>\n",
              "      <td>0</td>\n",
              "      <td>238142</td>\n",
              "      <td>190266</td>\n",
              "      <td>96831</td>\n",
              "    </tr>\n",
              "  </tbody>\n",
              "</table>\n",
              "<p>602 rows × 5 columns</p>\n",
              "</div>"
            ],
            "text/plain": [
              "     Confirmed  Deceased   TOT_P   P_LIT  TOT_WORK_P\n",
              "0         5631        94  870354  439654      229064\n",
              "1         7565        84  133487   93770       75079\n",
              "2         2103        44  140802   86236       51873\n",
              "3         2485        24  476835  261724      161393\n",
              "4         3864        55  642415  364109      290912\n",
              "..         ...       ...     ...     ...         ...\n",
              "597       1942         9   41816   36470       11802\n",
              "598       3849        64  200222  154916       68301\n",
              "599          0         0   36842   25332       17125\n",
              "600          1         0  105597   78683       38579\n",
              "601         51         0  238142  190266       96831\n",
              "\n",
              "[602 rows x 5 columns]"
            ]
          },
          "metadata": {
            "tags": []
          },
          "execution_count": 29
        }
      ]
    },
    {
      "cell_type": "markdown",
      "metadata": {
        "id": "lrTRU6pNc2Pw"
      },
      "source": [
        "KMeans Clustering Elbow Method Graph"
      ]
    },
    {
      "cell_type": "code",
      "metadata": {
        "colab": {
          "base_uri": "https://localhost:8080/"
        },
        "id": "fEfTrQs6t7_Y",
        "outputId": "8ca5e542-95b0-456e-d07f-8859f31be8e4"
      },
      "source": [
        "from sklearn.cluster import KMeans\r\n",
        "\r\n",
        "\r\n",
        "kmeans = KMeans(n_clusters = 50, init=\"k-means++\", random_state = 42)\r\n",
        "kmeans.fit(dataset)\r\n",
        "  #wcss.append(kmeans.inertia_)\r\n",
        "\r\n"
      ],
      "execution_count": null,
      "outputs": [
        {
          "output_type": "execute_result",
          "data": {
            "text/plain": [
              "KMeans(algorithm='auto', copy_x=True, init='k-means++', max_iter=300,\n",
              "       n_clusters=50, n_init=10, n_jobs=None, precompute_distances='auto',\n",
              "       random_state=42, tol=0.0001, verbose=0)"
            ]
          },
          "metadata": {
            "tags": []
          },
          "execution_count": 30
        }
      ]
    },
    {
      "cell_type": "code",
      "metadata": {
        "id": "Y2EdDTcCugCm"
      },
      "source": [
        "from numpy import asarray\r\n",
        "y_p = kmeans.predict(dataset)\r\n",
        "y_p = asarray(y_p)"
      ],
      "execution_count": null,
      "outputs": []
    },
    {
      "cell_type": "code",
      "metadata": {
        "id": "z_5Di3Fbum-0"
      },
      "source": [
        "from numpy import savetxt\r\n",
        "savetxt('output1.csv', y_p, delimiter=',')"
      ],
      "execution_count": null,
      "outputs": []
    },
    {
      "cell_type": "code",
      "metadata": {
        "id": "kXYWqmH3--e2",
        "colab": {
          "base_uri": "https://localhost:8080/"
        },
        "outputId": "6303fede-857e-48fc-93f3-a6b05031147b"
      },
      "source": [
        "y_p"
      ],
      "execution_count": null,
      "outputs": [
        {
          "output_type": "execute_result",
          "data": {
            "text/plain": [
              "array([24, 30, 30, 37, 13, 13, 37, 35,  3, 37,  3,  6, 37, 37,  3,  3, 13,\n",
              "        3,  0,  3, 13, 32, 30, 37,  6, 13, 13, 13, 43, 30, 26, 43, 26,  0,\n",
              "       13, 13, 12, 43, 27, 13, 15, 24, 36, 39,  6, 13, 32, 13,  6,  3, 37,\n",
              "        3, 13, 36, 37,  3, 13,  3, 43, 32, 36, 13, 35, 35, 43,  6,  0, 35,\n",
              "        0, 35, 43, 35, 32, 32,  6, 43, 43, 43,  0, 36, 43, 12, 43, 26, 36,\n",
              "       30, 13,  4, 26,  4, 27, 14, 28, 27,  7, 25, 39, 15, 15, 32, 16, 39,\n",
              "       20, 25, 13, 28, 14, 43, 27, 39, 15,  6, 28,  6, 15, 15, 36, 35, 15,\n",
              "       31, 22, 29, 22, 23, 23, 22, 35, 22, 32, 22, 22, 23,  1, 23, 36, 20,\n",
              "       19, 27, 10, 19, 29, 10,  1, 22, 14, 32,  0,  0, 36, 49, 32,  7,  6,\n",
              "        6, 37, 24, 14, 43, 39, 24, 22, 15,  5, 20, 23, 29, 20,  6, 27, 20,\n",
              "       23, 23, 14, 39,  1, 22, 10,  1,  7, 22,  1, 22, 27, 12, 23, 14, 14,\n",
              "       29, 42, 13, 20, 19,  7, 28, 15, 20, 10, 14, 14, 29,  1, 23, 22, 29,\n",
              "       22, 19, 10, 15, 10, 27, 35, 43, 13, 10,  5, 39, 14,  0, 10, 19,  7,\n",
              "       14,  6, 13, 30, 30, 30, 30, 30, 30, 30, 30, 30, 30, 30, 30, 30, 30,\n",
              "        3,  3, 30,  3, 37, 30,  3, 30, 30,  3, 30, 37, 30,  3,  3, 37, 13,\n",
              "       37,  3, 30, 30, 30, 37, 30, 30, 30,  3, 30, 30, 36, 43, 37, 13, 13,\n",
              "        3, 30, 37,  3, 24, 14, 43, 14, 43, 10, 27,  6, 13, 35, 35, 35, 35,\n",
              "        6, 43,  3, 36, 35, 13, 13, 37,  0, 35, 24, 43, 24, 24, 36, 12, 10,\n",
              "       32, 29, 16, 22, 48,  2, 47, 25, 31, 11,  9, 40, 11, 15, 43, 13, 28,\n",
              "       15, 15,  6, 24, 39,  7, 37, 26, 27, 13, 14, 43, 15, 24, 18, 37,  6,\n",
              "       13, 15,  6, 32, 13,  6,  7, 14, 28,  0,  0, 35,  4, 36, 35, 35, 43,\n",
              "       26, 36, 25, 13, 24, 13, 32, 13, 15, 24,  6, 15, 13, 13, 28, 24, 32,\n",
              "       35, 32, 37, 39, 24, 32, 25, 21,  6, 24, 24, 15, 30, 37, 13, 27, 32,\n",
              "       36, 24, 14, 15, 14, 43, 39, 35,  7, 23, 13, 24, 15, 15,  7, 15, 32,\n",
              "        7,  8, 27, 15, 15, 15, 26, 35, 35, 32, 13, 35, 35, 39,  6, 24,  6,\n",
              "        7, 15, 32,  6, 24,  6, 24,  6,  6, 24, 13, 15, 24, 31, 35, 39,  0,\n",
              "       34, 14, 46,  7, 13, 18, 32, 18, 26, 26, 21, 13, 32,  0, 32, 40, 24,\n",
              "       30,  3, 37, 32,  7, 21, 18, 36, 35,  8,  0, 49, 35,  0,  6, 26, 18,\n",
              "       25, 35, 27, 27, 23, 12, 40, 17,  2,  8, 18, 33, 41, 39, 32, 21,  8,\n",
              "       32, 43, 46, 18, 31, 28, 45, 31, 46, 48, 45, 25, 25, 31, 31, 28, 21,\n",
              "       48, 46, 41, 41, 25, 18, 31, 45, 45, 21, 27,  7, 32, 27,  4, 15,  6,\n",
              "       36,  0, 32, 32,  7, 36, 35, 35, 33, 27, 27, 26, 13, 18,  6,  6, 32,\n",
              "       35,  6,  6, 43, 13, 30,  0,  4, 43, 44, 38,  4, 44, 44, 35, 26, 26,\n",
              "       35, 49, 44, 46, 49, 46, 46, 39, 25, 25, 27, 28,  7,  6, 18, 13, 24,\n",
              "       18, 32, 35, 39, 32,  0,  8, 35,  7,  0, 36,  8, 36, 32, 27, 12, 39,\n",
              "       30, 43, 30,  3, 30, 30,  3], dtype=int32)"
            ]
          },
          "metadata": {
            "tags": []
          },
          "execution_count": 42
        }
      ]
    },
    {
      "cell_type": "code",
      "metadata": {
        "id": "VuXTeyslYMbK"
      },
      "source": [
        "from sklearn.cluster import KMeans\r\n",
        "wcss = []\r\n",
        "for i in range(1, 602):\r\n",
        "  kmeans = KMeans(n_clusters = i, init=\"k-means++\", random_state = 42)\r\n",
        "  kmeans.fit(dataset)\r\n",
        "  wcss.append(kmeans.inertia_)\r\n",
        "\r\n",
        "plt.title(\"Number of clusters vs WCSS\")\r\n",
        "plt.plot(range(1, 602), wcss)\r\n",
        "plt.xlabel(\"Number of clusters\")\r\n",
        "plt.ylabel(\"WCSS\")\r\n",
        "plt.show()"
      ],
      "execution_count": null,
      "outputs": []
    },
    {
      "cell_type": "code",
      "metadata": {
        "id": "tlskV1Tjkg17"
      },
      "source": [
        "plt.title(\"Number of clusters vs WCSS\")\r\n",
        "plt.plot(range(1,  10), wcss[1:10])\r\n",
        "plt.xlabel(\"Number of clusters\")\r\n",
        "plt.ylabel(\"WCSS\")\r\n",
        "plt.show()\r\n",
        "plt.savefig('done.png')"
      ],
      "execution_count": null,
      "outputs": []
    },
    {
      "cell_type": "markdown",
      "metadata": {
        "id": "cReYpaOSc6Un"
      },
      "source": [
        "Hierarchical Clustering Dendogram"
      ]
    },
    {
      "cell_type": "code",
      "metadata": {
        "id": "3SxdE2b3b0Xf"
      },
      "source": [
        "import scipy.cluster.hierarchy as sch\r\n",
        "dendogram = sch.dendrogram(sch.linkage(dataset, method=\"ward\"))\r\n",
        "plt.title(\"Dendrogram\")\r\n",
        "plt.xlabel(\"Customers\")\r\n",
        "plt.ylabel(\"Euclidean Distance\")\r\n",
        "plt.show()"
      ],
      "execution_count": null,
      "outputs": []
    },
    {
      "cell_type": "markdown",
      "metadata": {
        "id": "vu15yKiogcWA"
      },
      "source": [
        "Correlations\r\n"
      ]
    },
    {
      "cell_type": "code",
      "metadata": {
        "id": "sGzc3tYJdJ1-"
      },
      "source": [
        "corr_matrix = dataset.corr()"
      ],
      "execution_count": null,
      "outputs": []
    },
    {
      "cell_type": "code",
      "metadata": {
        "colab": {
          "base_uri": "https://localhost:8080/"
        },
        "id": "-4IcJ6M-iUYX",
        "outputId": "40035d31-d2d3-4cb3-bdf2-ef7df195eca7"
      },
      "source": [
        "print(type(corr_matrix['Confirmed'].sort_values(ascending = False)))"
      ],
      "execution_count": null,
      "outputs": [
        {
          "output_type": "stream",
          "text": [
            "<class 'pandas.core.series.Series'>\n"
          ],
          "name": "stdout"
        }
      ]
    },
    {
      "cell_type": "code",
      "metadata": {
        "colab": {
          "base_uri": "https://localhost:8080/"
        },
        "id": "KoYLFdEqjQMs",
        "outputId": "d585d354-f890-43b0-e64e-a3544d9dc0d7"
      },
      "source": [
        "corr_matrix['Confirmed']"
      ],
      "execution_count": null,
      "outputs": [
        {
          "output_type": "execute_result",
          "data": {
            "text/plain": [
              "Code                                                                         0.266302\n",
              "Confirmed                                                                    1.000000\n",
              "Active                                                                       0.273176\n",
              "Recovered                                                                    0.993227\n",
              "Deceased                                                                     0.869616\n",
              "                                                                               ...   \n",
              "Total households with Four plus Workers                                      0.453777\n",
              "Total workers in households with Four Plus Workers                           0.431841\n",
              "Main workers in households with Four Plus Workers                            0.522122\n",
              "Marginal workers(3-6 months) in households with Four Plus Workers            0.105167\n",
              "Marginal workers(less than 3 months) in households with Four Plus Workers   -0.009887\n",
              "Name: Confirmed, Length: 184, dtype: float64"
            ]
          },
          "metadata": {
            "tags": []
          },
          "execution_count": 17
        }
      ]
    },
    {
      "cell_type": "code",
      "metadata": {
        "colab": {
          "base_uri": "https://localhost:8080/"
        },
        "id": "vb8QDSxgifU7",
        "outputId": "44123388-a8fe-474e-bd86-450efe058651"
      },
      "source": [
        "corr_matrix['Confirmed']\r\n",
        "row = corr_matrix['Confirmed'].index\r\n",
        "row = list(row)\r\n",
        "print(row)"
      ],
      "execution_count": null,
      "outputs": [
        {
          "output_type": "stream",
          "text": [
            "['Code', 'Confirmed', 'Active', 'Recovered', 'Deceased', 'State', 'No_HH', 'TOT_P', 'TOT_M', 'TOT_F', 'P_06', 'M_06', 'F_06', 'P_SC', 'M_SC', 'F_SC', 'P_ST', 'M_ST', 'F_ST', 'P_LIT', 'M_LIT', 'F_LIT', 'P_ILL', 'M_ILL', 'F_ILL', 'TOT_WORK_P', 'TOT_WORK_M', 'TOT_WORK_F', 'MAINWORK_P', 'MAINWORK_M', 'MAINWORK_F', 'MAIN_CL_P', 'MAIN_CL_M', 'MAIN_CL_F', 'MAIN_AL_P', 'MAIN_AL_M', 'MAIN_AL_F', 'MAIN_HH_P', 'MAIN_HH_M', 'MAIN_HH_F', 'MAIN_OT_P', 'MAIN_OT_M', 'MAIN_OT_F', 'MARGWORK_P', 'MARGWORK_M', 'MARGWORK_F', 'MARG_CL_P', 'MARG_CL_M', 'MARG_CL_F', 'MARG_AL_P', 'MARG_AL_M', 'MARG_AL_F', 'MARG_HH_P', 'MARG_HH_M', 'MARG_HH_F', 'MARG_OT_P', 'MARG_OT_M', 'MARG_OT_F', 'MARGWORK_3_6_P', 'MARGWORK_3_6_M', 'MARGWORK_3_6_F', 'MARG_CL_3_6_P', 'MARG_CL_3_6_M', 'MARG_CL_3_6_F', 'MARG_AL_3_6_P', 'MARG_AL_3_6_M', 'MARG_AL_3_6_F', 'MARG_HH_3_6_P', 'MARG_HH_3_6_M', 'MARG_HH_3_6_F', 'MARG_OT_3_6_P', 'MARG_OT_3_6_M', 'MARG_OT_3_6_F', 'MARGWORK_0_3_P', 'MARGWORK_0_3_M', 'MARGWORK_0_3_F', 'MARG_CL_0_3_P', 'MARG_CL_0_3_M', 'MARG_CL_0_3_F', 'MARG_AL_0_3_P', 'MARG_AL_0_3_M', 'MARG_AL_0_3_F', 'MARG_HH_0_3_P', 'MARG_HH_0_3_M', 'MARG_HH_0_3_F', 'MARG_OT_0_3_P', 'MARG_OT_0_3_M', 'MARG_OT_0_3_F', 'NON_WORK_P', 'NON_WORK_M', 'NON_WORK_F', 'Total number of households_1', 'R_01', 'R_11', 'R_21', 'R_31', 'R_41', 'R_51', 'R_61+', 'Total number of households_2', 'R_02', 'R_12', 'R_22', 'R_32', 'R_42', 'R_52', 'R_62+', 'Total number of households_3', 'R_03', 'R_13', 'R_23', 'R_33', 'R_43', 'R_53', 'R_63+', 'Total number of households_4', 'R_04', 'R_14', 'R_24', 'R_34', 'R_44', 'R_54', 'R_64+', 'Total number of households_5', 'R_05', 'R_15', 'R_25', 'R_35', 'R_45', 'R_55', 'R_65+', 'Total number of households_6-8', 'R_06-8', 'R_16-8', 'R_26-8', 'R_36-8', 'R_46-8', 'R_56-8', 'R_66-8+', 'Total number of households_9+', 'R_09+', 'R_19+', 'R_29+', 'R_39+', 'R_49+', 'R_59+', 'R_69+', 'percentage_within_premises', 'percentage_alternative_public', 'percentage_alternative_open', 'Total_households', 'T_1', 'T_2', 'T_3', 'T_4', 'T_5', 'T_6', 'T_7+', 'pop_above60', 'Total Households with None Workers', 'Total workers in household with none workers', 'Main workers in household with none workers', 'Marginal workers(3-6 months) in household with none workers', 'Marginal workers(less than 3 months) in household with none workers', 'Total households with One Workers', 'Total workers in households with one workers', 'Main workers in households with One Workers', 'Marginal workers(3-6 months) in households with One Workers', 'Marginal workers(less than 3 months) in households with One Workers', 'Total households with Two Workers', 'Total workers in households with Two Workers', 'Main workers in households with Two Workers', 'Marginal workers(3-6 months) in households with Two Workers', 'Marginal workers(less than 3 months) in households with Two Workers', 'Total households with Three Workers', 'Total workers in households with Three Workers', 'Main workers in households with Three Workers', 'Marginal workers(3-6 months) in households with Three Workers', 'Marginal workers(less than 3 months) in households with Three Workers', 'Total households with Four plus Workers', 'Total workers in households with Four Plus Workers', 'Main workers in households with Four Plus Workers', 'Marginal workers(3-6 months) in households with Four Plus Workers', 'Marginal workers(less than 3 months) in households with Four Plus Workers']\n"
          ],
          "name": "stdout"
        }
      ]
    },
    {
      "cell_type": "code",
      "metadata": {
        "id": "bwn5rGJojBNF",
        "colab": {
          "base_uri": "https://localhost:8080/"
        },
        "outputId": "eed5788e-358a-42ae-fa1d-019fd16f3bea"
      },
      "source": [
        "value = list(corr_matrix['Confirmed'])\r\n",
        "value"
      ],
      "execution_count": null,
      "outputs": [
        {
          "output_type": "execute_result",
          "data": {
            "text/plain": [
              "[0.2663024327894583,\n",
              " 1.0,\n",
              " 0.27317588979943636,\n",
              " 0.9932266484302622,\n",
              " 0.8696161595164935,\n",
              " 0.2750486947079912,\n",
              " 0.6425540575344082,\n",
              " 0.5771837072852741,\n",
              " 0.5731861647478901,\n",
              " 0.5803675388036019,\n",
              " 0.4278983856430986,\n",
              " 0.4271265761972616,\n",
              " 0.4283095944809665,\n",
              " 0.34453445084996887,\n",
              " 0.33607768205484223,\n",
              " 0.3530786771892114,\n",
              " 0.11055414253453603,\n",
              " 0.11222104036906597,\n",
              " 0.10884806801761582,\n",
              " 0.6598265485152253,\n",
              " 0.6356365385932009,\n",
              " 0.6839213783822677,\n",
              " 0.326507092001414,\n",
              " 0.3339804040062154,\n",
              " 0.31887285930136133,\n",
              " 0.6152656275808311,\n",
              " 0.6186681383707823,\n",
              " 0.5267450013572609,\n",
              " 0.6689054683452259,\n",
              " 0.6578800322205947,\n",
              " 0.5979712441165986,\n",
              " 0.2050877938280133,\n",
              " 0.157273334749786,\n",
              " 0.2505799171128984,\n",
              " 0.25113986389528675,\n",
              " 0.2196862878380335,\n",
              " 0.2558293083325662,\n",
              " 0.320221327011256,\n",
              " 0.39608613444524676,\n",
              " 0.18129864165436999,\n",
              " 0.741341643396672,\n",
              " 0.7240300285264005,\n",
              " 0.7764595849689929,\n",
              " 0.17704738291833802,\n",
              " 0.17641265398078992,\n",
              " 0.1592855766852379,\n",
              " -0.037881312998498215,\n",
              " -0.03996968287701817,\n",
              " -0.03332781975793292,\n",
              " 0.0071334021098739585,\n",
              " -0.009460047289214655,\n",
              " 0.023906795491592157,\n",
              " 0.1106725266986369,\n",
              " 0.12829425056613397,\n",
              " 0.09261737871611853,\n",
              " 0.5330685388962857,\n",
              " 0.5144699360501098,\n",
              " 0.5288831029343531,\n",
              " 0.2009799918360526,\n",
              " 0.19235843341321854,\n",
              " 0.18624291360758827,\n",
              " -0.024855184326726534,\n",
              " -0.02998756306722677,\n",
              " -0.018705422729245202,\n",
              " 0.014321760980960037,\n",
              " -0.00644377941838897,\n",
              " 0.03495811232743291,\n",
              " 0.11384820750123686,\n",
              " 0.1303787239861552,\n",
              " 0.09471850903921705,\n",
              " 0.5482325763134517,\n",
              " 0.5284218246965033,\n",
              " 0.5476200375554651,\n",
              " 0.07842386879507436,\n",
              " 0.0995899316838359,\n",
              " 0.05402391117102261,\n",
              " -0.0723298696880136,\n",
              " -0.06434618102175238,\n",
              " -0.07514109046241457,\n",
              " -0.02033919813472926,\n",
              " -0.02177098059518307,\n",
              " -0.01772393182459016,\n",
              " 0.09784687430204851,\n",
              " 0.11841637559047877,\n",
              " 0.08256110213649627,\n",
              " 0.3953967760725437,\n",
              " 0.4043536287359193,\n",
              " 0.34213382872862846,\n",
              " 0.5367086539719516,\n",
              " 0.5026378545132283,\n",
              " 0.5533647075675845,\n",
              " 0.6413421760079968,\n",
              " 0.5025983901743719,\n",
              " 0.5387737096493889,\n",
              " 0.6561683421684674,\n",
              " 0.718500085828362,\n",
              " 0.5853157452487973,\n",
              " 0.4472187223832737,\n",
              " 0.4339957667559281,\n",
              " 0.6461028710436664,\n",
              " 0.4699811267120645,\n",
              " 0.5128575087341027,\n",
              " 0.6333961961951584,\n",
              " 0.7383996313218284,\n",
              " 0.6177976784414476,\n",
              " 0.4940418828231348,\n",
              " 0.46209047933470143,\n",
              " 0.6751278330160979,\n",
              " 0.477873466310183,\n",
              " 0.5285124357341763,\n",
              " 0.6710081674981557,\n",
              " 0.744971631410491,\n",
              " 0.621801876165676,\n",
              " 0.5133102843275688,\n",
              " 0.4979398845822359,\n",
              " 0.6815630412034778,\n",
              " 0.4472769584064223,\n",
              " 0.5585521869748923,\n",
              " 0.6514826678355068,\n",
              " 0.7049544885418929,\n",
              " 0.5853866773292844,\n",
              " 0.4956769100063779,\n",
              " 0.4733696654705089,\n",
              " 0.6049005038608122,\n",
              " 0.38125165031372094,\n",
              " 0.4829333174573973,\n",
              " 0.5485925800830584,\n",
              " 0.6339575456464311,\n",
              " 0.5073257368421078,\n",
              " 0.42276202026381937,\n",
              " 0.3691168459976057,\n",
              " 0.38141614653068695,\n",
              " 0.2983991960256842,\n",
              " 0.3157970533220873,\n",
              " 0.3262771794483489,\n",
              " 0.4249346074584827,\n",
              " 0.31313516450213136,\n",
              " 0.2416064600257366,\n",
              " 0.17924166092744537,\n",
              " 0.1836976139480733,\n",
              " 0.21987890098621352,\n",
              " 0.2599804190218563,\n",
              " 0.17516140907662128,\n",
              " 0.20757711449538505,\n",
              " 0.13634001495025536,\n",
              " 0.09968531837671454,\n",
              " 0.06130129104072962,\n",
              " 0.24432928933552908,\n",
              " 0.27321950989654153,\n",
              " -0.2745581703244337,\n",
              " 0.641940318412091,\n",
              " 0.6181973571359812,\n",
              " 0.6591394750410142,\n",
              " 0.6896097368582892,\n",
              " 0.6888749157507246,\n",
              " 0.6052583421088197,\n",
              " 0.47005709668114704,\n",
              " 0.24692144850611644,\n",
              " 0.6134371980524427,\n",
              " 0.6090212480567656,\n",
              " nan,\n",
              " nan,\n",
              " nan,\n",
              " nan,\n",
              " 0.6232362537590088,\n",
              " 0.6232362537590088,\n",
              " 0.65419695599402,\n",
              " 0.21935647406554837,\n",
              " 0.15106509368355625,\n",
              " 0.6069570674352434,\n",
              " 0.6069570674352434,\n",
              " 0.6549291337064957,\n",
              " 0.20842137066252467,\n",
              " 0.11766777526931058,\n",
              " 0.6160985149448309,\n",
              " 0.6160985149448305,\n",
              " 0.6560487710682832,\n",
              " 0.2652115245297606,\n",
              " 0.1098766388638513,\n",
              " 0.45377686018686736,\n",
              " 0.4318408225250975,\n",
              " 0.5221219395732111,\n",
              " 0.10516673620872911,\n",
              " -0.00988748911157902]"
            ]
          },
          "metadata": {
            "tags": []
          },
          "execution_count": 23
        }
      ]
    },
    {
      "cell_type": "code",
      "metadata": {
        "id": "ljvInUE4gxzF"
      },
      "source": [
        "for value in corr_matrix['Confirmed'].sort_values(ascending = False):\r\n",
        "  print(value)"
      ],
      "execution_count": null,
      "outputs": []
    },
    {
      "cell_type": "code",
      "metadata": {
        "colab": {
          "base_uri": "https://localhost:8080/"
        },
        "id": "gIGOdMTL39bn",
        "outputId": "cb7b7889-720e-4919-c6e2-3e2f3ca14346"
      },
      "source": [
        "len(row)"
      ],
      "execution_count": null,
      "outputs": [
        {
          "output_type": "execute_result",
          "data": {
            "text/plain": [
              "184"
            ]
          },
          "metadata": {
            "tags": []
          },
          "execution_count": 21
        }
      ]
    },
    {
      "cell_type": "code",
      "metadata": {
        "colab": {
          "base_uri": "https://localhost:8080/"
        },
        "id": "dXw1fpH34Ksw",
        "outputId": "c9648e06-4bc8-4767-baa9-adb321b12580"
      },
      "source": [
        "type(value)\r\n",
        "len(value)"
      ],
      "execution_count": null,
      "outputs": [
        {
          "output_type": "execute_result",
          "data": {
            "text/plain": [
              "184"
            ]
          },
          "metadata": {
            "tags": []
          },
          "execution_count": 24
        }
      ]
    },
    {
      "cell_type": "code",
      "metadata": {
        "colab": {
          "base_uri": "https://localhost:8080/"
        },
        "id": "wgQ2BKtJhxR-",
        "outputId": "c1bd067b-6d6a-4063-8a18-050a03c93754"
      },
      "source": [
        "corr = list(zip(row, value))\r\n",
        "print(corr)"
      ],
      "execution_count": null,
      "outputs": [
        {
          "output_type": "stream",
          "text": [
            "[('Code', 0.2663024327894583), ('Confirmed', 1.0), ('Active', 0.27317588979943636), ('Recovered', 0.9932266484302622), ('Deceased', 0.8696161595164935), ('State', 0.2750486947079912), ('No_HH', 0.6425540575344082), ('TOT_P', 0.5771837072852741), ('TOT_M', 0.5731861647478901), ('TOT_F', 0.5803675388036019), ('P_06', 0.4278983856430986), ('M_06', 0.4271265761972616), ('F_06', 0.4283095944809665), ('P_SC', 0.34453445084996887), ('M_SC', 0.33607768205484223), ('F_SC', 0.3530786771892114), ('P_ST', 0.11055414253453603), ('M_ST', 0.11222104036906597), ('F_ST', 0.10884806801761582), ('P_LIT', 0.6598265485152253), ('M_LIT', 0.6356365385932009), ('F_LIT', 0.6839213783822677), ('P_ILL', 0.326507092001414), ('M_ILL', 0.3339804040062154), ('F_ILL', 0.31887285930136133), ('TOT_WORK_P', 0.6152656275808311), ('TOT_WORK_M', 0.6186681383707823), ('TOT_WORK_F', 0.5267450013572609), ('MAINWORK_P', 0.6689054683452259), ('MAINWORK_M', 0.6578800322205947), ('MAINWORK_F', 0.5979712441165986), ('MAIN_CL_P', 0.2050877938280133), ('MAIN_CL_M', 0.157273334749786), ('MAIN_CL_F', 0.2505799171128984), ('MAIN_AL_P', 0.25113986389528675), ('MAIN_AL_M', 0.2196862878380335), ('MAIN_AL_F', 0.2558293083325662), ('MAIN_HH_P', 0.320221327011256), ('MAIN_HH_M', 0.39608613444524676), ('MAIN_HH_F', 0.18129864165436999), ('MAIN_OT_P', 0.741341643396672), ('MAIN_OT_M', 0.7240300285264005), ('MAIN_OT_F', 0.7764595849689929), ('MARGWORK_P', 0.17704738291833802), ('MARGWORK_M', 0.17641265398078992), ('MARGWORK_F', 0.1592855766852379), ('MARG_CL_P', -0.037881312998498215), ('MARG_CL_M', -0.03996968287701817), ('MARG_CL_F', -0.03332781975793292), ('MARG_AL_P', 0.0071334021098739585), ('MARG_AL_M', -0.009460047289214655), ('MARG_AL_F', 0.023906795491592157), ('MARG_HH_P', 0.1106725266986369), ('MARG_HH_M', 0.12829425056613397), ('MARG_HH_F', 0.09261737871611853), ('MARG_OT_P', 0.5330685388962857), ('MARG_OT_M', 0.5144699360501098), ('MARG_OT_F', 0.5288831029343531), ('MARGWORK_3_6_P', 0.2009799918360526), ('MARGWORK_3_6_M', 0.19235843341321854), ('MARGWORK_3_6_F', 0.18624291360758827), ('MARG_CL_3_6_P', -0.024855184326726534), ('MARG_CL_3_6_M', -0.02998756306722677), ('MARG_CL_3_6_F', -0.018705422729245202), ('MARG_AL_3_6_P', 0.014321760980960037), ('MARG_AL_3_6_M', -0.00644377941838897), ('MARG_AL_3_6_F', 0.03495811232743291), ('MARG_HH_3_6_P', 0.11384820750123686), ('MARG_HH_3_6_M', 0.1303787239861552), ('MARG_HH_3_6_F', 0.09471850903921705), ('MARG_OT_3_6_P', 0.5482325763134517), ('MARG_OT_3_6_M', 0.5284218246965033), ('MARG_OT_3_6_F', 0.5476200375554651), ('MARGWORK_0_3_P', 0.07842386879507436), ('MARGWORK_0_3_M', 0.0995899316838359), ('MARGWORK_0_3_F', 0.05402391117102261), ('MARG_CL_0_3_P', -0.0723298696880136), ('MARG_CL_0_3_M', -0.06434618102175238), ('MARG_CL_0_3_F', -0.07514109046241457), ('MARG_AL_0_3_P', -0.02033919813472926), ('MARG_AL_0_3_M', -0.02177098059518307), ('MARG_AL_0_3_F', -0.01772393182459016), ('MARG_HH_0_3_P', 0.09784687430204851), ('MARG_HH_0_3_M', 0.11841637559047877), ('MARG_HH_0_3_F', 0.08256110213649627), ('MARG_OT_0_3_P', 0.3953967760725437), ('MARG_OT_0_3_M', 0.4043536287359193), ('MARG_OT_0_3_F', 0.34213382872862846), ('NON_WORK_P', 0.5367086539719516), ('NON_WORK_M', 0.5026378545132283), ('NON_WORK_F', 0.5533647075675845), ('Total number of households_1', 0.6413421760079968), ('R_01', 0.5025983901743719), ('R_11', 0.5387737096493889), ('R_21', 0.6561683421684674), ('R_31', 0.718500085828362), ('R_41', 0.5853157452487973), ('R_51', 0.4472187223832737), ('R_61+', 0.4339957667559281), ('Total number of households_2', 0.6461028710436664), ('R_02', 0.4699811267120645), ('R_12', 0.5128575087341027), ('R_22', 0.6333961961951584), ('R_32', 0.7383996313218284), ('R_42', 0.6177976784414476), ('R_52', 0.4940418828231348), ('R_62+', 0.46209047933470143), ('Total number of households_3', 0.6751278330160979), ('R_03', 0.477873466310183), ('R_13', 0.5285124357341763), ('R_23', 0.6710081674981557), ('R_33', 0.744971631410491), ('R_43', 0.621801876165676), ('R_53', 0.5133102843275688), ('R_63+', 0.4979398845822359), ('Total number of households_4', 0.6815630412034778), ('R_04', 0.4472769584064223), ('R_14', 0.5585521869748923), ('R_24', 0.6514826678355068), ('R_34', 0.7049544885418929), ('R_44', 0.5853866773292844), ('R_54', 0.4956769100063779), ('R_64+', 0.4733696654705089), ('Total number of households_5', 0.6049005038608122), ('R_05', 0.38125165031372094), ('R_15', 0.4829333174573973), ('R_25', 0.5485925800830584), ('R_35', 0.6339575456464311), ('R_45', 0.5073257368421078), ('R_55', 0.42276202026381937), ('R_65+', 0.3691168459976057), ('Total number of households_6-8', 0.38141614653068695), ('R_06-8', 0.2983991960256842), ('R_16-8', 0.3157970533220873), ('R_26-8', 0.3262771794483489), ('R_36-8', 0.4249346074584827), ('R_46-8', 0.31313516450213136), ('R_56-8', 0.2416064600257366), ('R_66-8+', 0.17924166092744537), ('Total number of households_9+', 0.1836976139480733), ('R_09+', 0.21987890098621352), ('R_19+', 0.2599804190218563), ('R_29+', 0.17516140907662128), ('R_39+', 0.20757711449538505), ('R_49+', 0.13634001495025536), ('R_59+', 0.09968531837671454), ('R_69+', 0.06130129104072962), ('percentage_within_premises', 0.24432928933552908), ('percentage_alternative_public', 0.27321950989654153), ('percentage_alternative_open', -0.2745581703244337), ('Total_households', 0.641940318412091), ('T_1', 0.6181973571359812), ('T_2', 0.6591394750410142), ('T_3', 0.6896097368582892), ('T_4', 0.6888749157507246), ('T_5', 0.6052583421088197), ('T_6', 0.47005709668114704), ('T_7+', 0.24692144850611644), ('pop_above60', 0.6134371980524427), ('Total Households with None Workers', 0.6090212480567656), ('Total workers in household with none workers', nan), ('Main workers in household with none workers', nan), ('Marginal workers(3-6 months) in household with none workers', nan), ('Marginal workers(less than 3 months) in household with none workers', nan), ('Total households with One Workers', 0.6232362537590088), ('Total workers in households with one workers', 0.6232362537590088), ('Main workers in households with One Workers', 0.65419695599402), ('Marginal workers(3-6 months) in households with One Workers', 0.21935647406554837), ('Marginal workers(less than 3 months) in households with One Workers', 0.15106509368355625), ('Total households with Two Workers', 0.6069570674352434), ('Total workers in households with Two Workers', 0.6069570674352434), ('Main workers in households with Two Workers', 0.6549291337064957), ('Marginal workers(3-6 months) in households with Two Workers', 0.20842137066252467), ('Marginal workers(less than 3 months) in households with Two Workers', 0.11766777526931058), ('Total households with Three Workers', 0.6160985149448309), ('Total workers in households with Three Workers', 0.6160985149448305), ('Main workers in households with Three Workers', 0.6560487710682832), ('Marginal workers(3-6 months) in households with Three Workers', 0.2652115245297606), ('Marginal workers(less than 3 months) in households with Three Workers', 0.1098766388638513), ('Total households with Four plus Workers', 0.45377686018686736), ('Total workers in households with Four Plus Workers', 0.4318408225250975), ('Main workers in households with Four Plus Workers', 0.5221219395732111), ('Marginal workers(3-6 months) in households with Four Plus Workers', 0.10516673620872911), ('Marginal workers(less than 3 months) in households with Four Plus Workers', -0.00988748911157902)]\n"
          ],
          "name": "stdout"
        }
      ]
    },
    {
      "cell_type": "code",
      "metadata": {
        "colab": {
          "base_uri": "https://localhost:8080/"
        },
        "id": "NAj6VfZ-j3co",
        "outputId": "1d8f5b62-92be-47e9-bf1f-0a02c14f56ef"
      },
      "source": [
        "for row, value in corr:\r\n",
        "  print(f\"{row}\\t\\t{value}\")"
      ],
      "execution_count": null,
      "outputs": [
        {
          "output_type": "stream",
          "text": [
            "Code\t\t0.2663024327894583\n",
            "Confirmed\t\t1.0\n",
            "Active\t\t0.27317588979943636\n",
            "Recovered\t\t0.9932266484302622\n",
            "Deceased\t\t0.8696161595164935\n",
            "State\t\t0.2750486947079912\n",
            "No_HH\t\t0.6425540575344082\n",
            "TOT_P\t\t0.5771837072852741\n",
            "TOT_M\t\t0.5731861647478901\n",
            "TOT_F\t\t0.5803675388036019\n",
            "P_06\t\t0.4278983856430986\n",
            "M_06\t\t0.4271265761972616\n",
            "F_06\t\t0.4283095944809665\n",
            "P_SC\t\t0.34453445084996887\n",
            "M_SC\t\t0.33607768205484223\n",
            "F_SC\t\t0.3530786771892114\n",
            "P_ST\t\t0.11055414253453603\n",
            "M_ST\t\t0.11222104036906597\n",
            "F_ST\t\t0.10884806801761582\n",
            "P_LIT\t\t0.6598265485152253\n",
            "M_LIT\t\t0.6356365385932009\n",
            "F_LIT\t\t0.6839213783822677\n",
            "P_ILL\t\t0.326507092001414\n",
            "M_ILL\t\t0.3339804040062154\n",
            "F_ILL\t\t0.31887285930136133\n",
            "TOT_WORK_P\t\t0.6152656275808311\n",
            "TOT_WORK_M\t\t0.6186681383707823\n",
            "TOT_WORK_F\t\t0.5267450013572609\n",
            "MAINWORK_P\t\t0.6689054683452259\n",
            "MAINWORK_M\t\t0.6578800322205947\n",
            "MAINWORK_F\t\t0.5979712441165986\n",
            "MAIN_CL_P\t\t0.2050877938280133\n",
            "MAIN_CL_M\t\t0.157273334749786\n",
            "MAIN_CL_F\t\t0.2505799171128984\n",
            "MAIN_AL_P\t\t0.25113986389528675\n",
            "MAIN_AL_M\t\t0.2196862878380335\n",
            "MAIN_AL_F\t\t0.2558293083325662\n",
            "MAIN_HH_P\t\t0.320221327011256\n",
            "MAIN_HH_M\t\t0.39608613444524676\n",
            "MAIN_HH_F\t\t0.18129864165436999\n",
            "MAIN_OT_P\t\t0.741341643396672\n",
            "MAIN_OT_M\t\t0.7240300285264005\n",
            "MAIN_OT_F\t\t0.7764595849689929\n",
            "MARGWORK_P\t\t0.17704738291833802\n",
            "MARGWORK_M\t\t0.17641265398078992\n",
            "MARGWORK_F\t\t0.1592855766852379\n",
            "MARG_CL_P\t\t-0.037881312998498215\n",
            "MARG_CL_M\t\t-0.03996968287701817\n",
            "MARG_CL_F\t\t-0.03332781975793292\n",
            "MARG_AL_P\t\t0.0071334021098739585\n",
            "MARG_AL_M\t\t-0.009460047289214655\n",
            "MARG_AL_F\t\t0.023906795491592157\n",
            "MARG_HH_P\t\t0.1106725266986369\n",
            "MARG_HH_M\t\t0.12829425056613397\n",
            "MARG_HH_F\t\t0.09261737871611853\n",
            "MARG_OT_P\t\t0.5330685388962857\n",
            "MARG_OT_M\t\t0.5144699360501098\n",
            "MARG_OT_F\t\t0.5288831029343531\n",
            "MARGWORK_3_6_P\t\t0.2009799918360526\n",
            "MARGWORK_3_6_M\t\t0.19235843341321854\n",
            "MARGWORK_3_6_F\t\t0.18624291360758827\n",
            "MARG_CL_3_6_P\t\t-0.024855184326726534\n",
            "MARG_CL_3_6_M\t\t-0.02998756306722677\n",
            "MARG_CL_3_6_F\t\t-0.018705422729245202\n",
            "MARG_AL_3_6_P\t\t0.014321760980960037\n",
            "MARG_AL_3_6_M\t\t-0.00644377941838897\n",
            "MARG_AL_3_6_F\t\t0.03495811232743291\n",
            "MARG_HH_3_6_P\t\t0.11384820750123686\n",
            "MARG_HH_3_6_M\t\t0.1303787239861552\n",
            "MARG_HH_3_6_F\t\t0.09471850903921705\n",
            "MARG_OT_3_6_P\t\t0.5482325763134517\n",
            "MARG_OT_3_6_M\t\t0.5284218246965033\n",
            "MARG_OT_3_6_F\t\t0.5476200375554651\n",
            "MARGWORK_0_3_P\t\t0.07842386879507436\n",
            "MARGWORK_0_3_M\t\t0.0995899316838359\n",
            "MARGWORK_0_3_F\t\t0.05402391117102261\n",
            "MARG_CL_0_3_P\t\t-0.0723298696880136\n",
            "MARG_CL_0_3_M\t\t-0.06434618102175238\n",
            "MARG_CL_0_3_F\t\t-0.07514109046241457\n",
            "MARG_AL_0_3_P\t\t-0.02033919813472926\n",
            "MARG_AL_0_3_M\t\t-0.02177098059518307\n",
            "MARG_AL_0_3_F\t\t-0.01772393182459016\n",
            "MARG_HH_0_3_P\t\t0.09784687430204851\n",
            "MARG_HH_0_3_M\t\t0.11841637559047877\n",
            "MARG_HH_0_3_F\t\t0.08256110213649627\n",
            "MARG_OT_0_3_P\t\t0.3953967760725437\n",
            "MARG_OT_0_3_M\t\t0.4043536287359193\n",
            "MARG_OT_0_3_F\t\t0.34213382872862846\n",
            "NON_WORK_P\t\t0.5367086539719516\n",
            "NON_WORK_M\t\t0.5026378545132283\n",
            "NON_WORK_F\t\t0.5533647075675845\n",
            "Total number of households_1\t\t0.6413421760079968\n",
            "R_01\t\t0.5025983901743719\n",
            "R_11\t\t0.5387737096493889\n",
            "R_21\t\t0.6561683421684674\n",
            "R_31\t\t0.718500085828362\n",
            "R_41\t\t0.5853157452487973\n",
            "R_51\t\t0.4472187223832737\n",
            "R_61+\t\t0.4339957667559281\n",
            "Total number of households_2\t\t0.6461028710436664\n",
            "R_02\t\t0.4699811267120645\n",
            "R_12\t\t0.5128575087341027\n",
            "R_22\t\t0.6333961961951584\n",
            "R_32\t\t0.7383996313218284\n",
            "R_42\t\t0.6177976784414476\n",
            "R_52\t\t0.4940418828231348\n",
            "R_62+\t\t0.46209047933470143\n",
            "Total number of households_3\t\t0.6751278330160979\n",
            "R_03\t\t0.477873466310183\n",
            "R_13\t\t0.5285124357341763\n",
            "R_23\t\t0.6710081674981557\n",
            "R_33\t\t0.744971631410491\n",
            "R_43\t\t0.621801876165676\n",
            "R_53\t\t0.5133102843275688\n",
            "R_63+\t\t0.4979398845822359\n",
            "Total number of households_4\t\t0.6815630412034778\n",
            "R_04\t\t0.4472769584064223\n",
            "R_14\t\t0.5585521869748923\n",
            "R_24\t\t0.6514826678355068\n",
            "R_34\t\t0.7049544885418929\n",
            "R_44\t\t0.5853866773292844\n",
            "R_54\t\t0.4956769100063779\n",
            "R_64+\t\t0.4733696654705089\n",
            "Total number of households_5\t\t0.6049005038608122\n",
            "R_05\t\t0.38125165031372094\n",
            "R_15\t\t0.4829333174573973\n",
            "R_25\t\t0.5485925800830584\n",
            "R_35\t\t0.6339575456464311\n",
            "R_45\t\t0.5073257368421078\n",
            "R_55\t\t0.42276202026381937\n",
            "R_65+\t\t0.3691168459976057\n",
            "Total number of households_6-8\t\t0.38141614653068695\n",
            "R_06-8\t\t0.2983991960256842\n",
            "R_16-8\t\t0.3157970533220873\n",
            "R_26-8\t\t0.3262771794483489\n",
            "R_36-8\t\t0.4249346074584827\n",
            "R_46-8\t\t0.31313516450213136\n",
            "R_56-8\t\t0.2416064600257366\n",
            "R_66-8+\t\t0.17924166092744537\n",
            "Total number of households_9+\t\t0.1836976139480733\n",
            "R_09+\t\t0.21987890098621352\n",
            "R_19+\t\t0.2599804190218563\n",
            "R_29+\t\t0.17516140907662128\n",
            "R_39+\t\t0.20757711449538505\n",
            "R_49+\t\t0.13634001495025536\n",
            "R_59+\t\t0.09968531837671454\n",
            "R_69+\t\t0.06130129104072962\n",
            "percentage_within_premises\t\t0.24432928933552908\n",
            "percentage_alternative_public\t\t0.27321950989654153\n",
            "percentage_alternative_open\t\t-0.2745581703244337\n",
            "Total_households\t\t0.641940318412091\n",
            "T_1\t\t0.6181973571359812\n",
            "T_2\t\t0.6591394750410142\n",
            "T_3\t\t0.6896097368582892\n",
            "T_4\t\t0.6888749157507246\n",
            "T_5\t\t0.6052583421088197\n",
            "T_6\t\t0.47005709668114704\n",
            "T_7+\t\t0.24692144850611644\n",
            "pop_above60\t\t0.6134371980524427\n",
            "Total Households with None Workers\t\t0.6090212480567656\n",
            "Total workers in household with none workers\t\tnan\n",
            "Main workers in household with none workers\t\tnan\n",
            "Marginal workers(3-6 months) in household with none workers\t\tnan\n",
            "Marginal workers(less than 3 months) in household with none workers\t\tnan\n",
            "Total households with One Workers\t\t0.6232362537590088\n",
            "Total workers in households with one workers\t\t0.6232362537590088\n",
            "Main workers in households with One Workers\t\t0.65419695599402\n",
            "Marginal workers(3-6 months) in households with One Workers\t\t0.21935647406554837\n",
            "Marginal workers(less than 3 months) in households with One Workers\t\t0.15106509368355625\n",
            "Total households with Two Workers\t\t0.6069570674352434\n",
            "Total workers in households with Two Workers\t\t0.6069570674352434\n",
            "Main workers in households with Two Workers\t\t0.6549291337064957\n",
            "Marginal workers(3-6 months) in households with Two Workers\t\t0.20842137066252467\n",
            "Marginal workers(less than 3 months) in households with Two Workers\t\t0.11766777526931058\n",
            "Total households with Three Workers\t\t0.6160985149448309\n",
            "Total workers in households with Three Workers\t\t0.6160985149448305\n",
            "Main workers in households with Three Workers\t\t0.6560487710682832\n",
            "Marginal workers(3-6 months) in households with Three Workers\t\t0.2652115245297606\n",
            "Marginal workers(less than 3 months) in households with Three Workers\t\t0.1098766388638513\n",
            "Total households with Four plus Workers\t\t0.45377686018686736\n",
            "Total workers in households with Four Plus Workers\t\t0.4318408225250975\n",
            "Main workers in households with Four Plus Workers\t\t0.5221219395732111\n",
            "Marginal workers(3-6 months) in households with Four Plus Workers\t\t0.10516673620872911\n",
            "Marginal workers(less than 3 months) in households with Four Plus Workers\t\t-0.00988748911157902\n"
          ],
          "name": "stdout"
        }
      ]
    },
    {
      "cell_type": "code",
      "metadata": {
        "id": "B2PwKARAkOEu",
        "colab": {
          "base_uri": "https://localhost:8080/"
        },
        "outputId": "98d5a83f-8d03-4850-e1cc-8129e818cf2d"
      },
      "source": [
        "list_of = []\r\n",
        "for i in corr:\r\n",
        "  if(i[1] >= 0.5):\r\n",
        "    list_of.append(i[0])\r\n",
        "\r\n",
        "\r\n",
        "for i in list_of:\r\n",
        "  print(i)"
      ],
      "execution_count": null,
      "outputs": [
        {
          "output_type": "stream",
          "text": [
            "Confirmed\n",
            "Recovered\n",
            "Deceased\n",
            "No_HH\n",
            "TOT_P\n",
            "TOT_M\n",
            "TOT_F\n",
            "P_LIT\n",
            "M_LIT\n",
            "F_LIT\n",
            "TOT_WORK_P\n",
            "TOT_WORK_M\n",
            "TOT_WORK_F\n",
            "MAINWORK_P\n",
            "MAINWORK_M\n",
            "MAINWORK_F\n",
            "MAIN_OT_P\n",
            "MAIN_OT_M\n",
            "MAIN_OT_F\n",
            "MARG_OT_P\n",
            "MARG_OT_M\n",
            "MARG_OT_F\n",
            "MARG_OT_3_6_P\n",
            "MARG_OT_3_6_M\n",
            "MARG_OT_3_6_F\n",
            "NON_WORK_P\n",
            "NON_WORK_M\n",
            "NON_WORK_F\n",
            "Total number of households_1\n",
            "R_01\n",
            "R_11\n",
            "R_21\n",
            "R_31\n",
            "R_41\n",
            "Total number of households_2\n",
            "R_12\n",
            "R_22\n",
            "R_32\n",
            "R_42\n",
            "Total number of households_3\n",
            "R_13\n",
            "R_23\n",
            "R_33\n",
            "R_43\n",
            "R_53\n",
            "Total number of households_4\n",
            "R_14\n",
            "R_24\n",
            "R_34\n",
            "R_44\n",
            "Total number of households_5\n",
            "R_25\n",
            "R_35\n",
            "R_45\n",
            "Total_households\n",
            "T_1\n",
            "T_2\n",
            "T_3\n",
            "T_4\n",
            "T_5\n",
            "pop_above60\n",
            "Total Households with None Workers\n",
            "Total households with One Workers\n",
            "Total workers in households with one workers\n",
            "Main workers in households with One Workers\n",
            "Total households with Two Workers\n",
            "Total workers in households with Two Workers\n",
            "Main workers in households with Two Workers\n",
            "Total households with Three Workers\n",
            "Total workers in households with Three Workers\n",
            "Main workers in households with Three Workers\n",
            "Main workers in households with Four Plus Workers\n"
          ],
          "name": "stdout"
        }
      ]
    },
    {
      "cell_type": "markdown",
      "metadata": {
        "id": "xajGEDP4F-rP"
      },
      "source": [
        "Reducing Column"
      ]
    },
    {
      "cell_type": "code",
      "metadata": {
        "colab": {
          "base_uri": "https://localhost:8080/"
        },
        "id": "JFgANafTJOIQ",
        "outputId": "cd6a6ffc-6c39-48c6-c40d-d17cb7bcca9e"
      },
      "source": [
        "for column in dataset.columns:\r\n",
        "  print(column)"
      ],
      "execution_count": null,
      "outputs": [
        {
          "output_type": "stream",
          "text": [
            "Code\n",
            "Confirmed\n",
            "Active\n",
            "Recovered\n",
            "Deceased\n",
            "State\n",
            "No_HH\n",
            "TOT_P\n",
            "TOT_M\n",
            "TOT_F\n",
            "P_06\n",
            "M_06\n",
            "F_06\n",
            "P_SC\n",
            "M_SC\n",
            "F_SC\n",
            "P_ST\n",
            "M_ST\n",
            "F_ST\n",
            "P_LIT\n",
            "M_LIT\n",
            "F_LIT\n",
            "P_ILL\n",
            "M_ILL\n",
            "F_ILL\n",
            "TOT_WORK_P\n",
            "TOT_WORK_M\n",
            "TOT_WORK_F\n",
            "MAINWORK_P\n",
            "MAINWORK_M\n",
            "MAINWORK_F\n",
            "MAIN_CL_P\n",
            "MAIN_CL_M\n",
            "MAIN_CL_F\n",
            "MAIN_AL_P\n",
            "MAIN_AL_M\n",
            "MAIN_AL_F\n",
            "MAIN_HH_P\n",
            "MAIN_HH_M\n",
            "MAIN_HH_F\n",
            "MAIN_OT_P\n",
            "MAIN_OT_M\n",
            "MAIN_OT_F\n",
            "MARGWORK_P\n",
            "MARGWORK_M\n",
            "MARGWORK_F\n",
            "MARG_CL_P\n",
            "MARG_CL_M\n",
            "MARG_CL_F\n",
            "MARG_AL_P\n",
            "MARG_AL_M\n",
            "MARG_AL_F\n",
            "MARG_HH_P\n",
            "MARG_HH_M\n",
            "MARG_HH_F\n",
            "MARG_OT_P\n",
            "MARG_OT_M\n",
            "MARG_OT_F\n",
            "MARGWORK_3_6_P\n",
            "MARGWORK_3_6_M\n",
            "MARGWORK_3_6_F\n",
            "MARG_CL_3_6_P\n",
            "MARG_CL_3_6_M\n",
            "MARG_CL_3_6_F\n",
            "MARG_AL_3_6_P\n",
            "MARG_AL_3_6_M\n",
            "MARG_AL_3_6_F\n",
            "MARG_HH_3_6_P\n",
            "MARG_HH_3_6_M\n",
            "MARG_HH_3_6_F\n",
            "MARG_OT_3_6_P\n",
            "MARG_OT_3_6_M\n",
            "MARG_OT_3_6_F\n",
            "MARGWORK_0_3_P\n",
            "MARGWORK_0_3_M\n",
            "MARGWORK_0_3_F\n",
            "MARG_CL_0_3_P\n",
            "MARG_CL_0_3_M\n",
            "MARG_CL_0_3_F\n",
            "MARG_AL_0_3_P\n",
            "MARG_AL_0_3_M\n",
            "MARG_AL_0_3_F\n",
            "MARG_HH_0_3_P\n",
            "MARG_HH_0_3_M\n",
            "MARG_HH_0_3_F\n",
            "MARG_OT_0_3_P\n",
            "MARG_OT_0_3_M\n",
            "MARG_OT_0_3_F\n",
            "NON_WORK_P\n",
            "NON_WORK_M\n",
            "NON_WORK_F\n",
            "Total number of households_1\n",
            "R_01\n",
            "R_11\n",
            "R_21\n",
            "R_31\n",
            "R_41\n",
            "R_51\n",
            "R_61+\n",
            "Total number of households_2\n",
            "R_02\n",
            "R_12\n",
            "R_22\n",
            "R_32\n",
            "R_42\n",
            "R_52\n",
            "R_62+\n",
            "Total number of households_3\n",
            "R_03\n",
            "R_13\n",
            "R_23\n",
            "R_33\n",
            "R_43\n",
            "R_53\n",
            "R_63+\n",
            "Total number of households_4\n",
            "R_04\n",
            "R_14\n",
            "R_24\n",
            "R_34\n",
            "R_44\n",
            "R_54\n",
            "R_64+\n",
            "Total number of households_5\n",
            "R_05\n",
            "R_15\n",
            "R_25\n",
            "R_35\n",
            "R_45\n",
            "R_55\n",
            "R_65+\n",
            "Total number of households_6-8\n",
            "R_06-8\n",
            "R_16-8\n",
            "R_26-8\n",
            "R_36-8\n",
            "R_46-8\n",
            "R_56-8\n",
            "R_66-8+\n",
            "Total number of households_9+\n",
            "R_09+\n",
            "R_19+\n",
            "R_29+\n",
            "R_39+\n",
            "R_49+\n",
            "R_59+\n",
            "R_69+\n",
            "percentage_within_premises\n",
            "percentage_alternative_public\n",
            "percentage_alternative_open\n",
            "Total_households\n",
            "T_1\n",
            "T_2\n",
            "T_3\n",
            "T_4\n",
            "T_5\n",
            "T_6\n",
            "T_7+\n",
            "pop_above60\n",
            "Total Households with None Workers\n",
            "Total workers in household with none workers\n",
            "Main workers in household with none workers\n",
            "Marginal workers(3-6 months) in household with none workers\n",
            "Marginal workers(less than 3 months) in household with none workers\n",
            "Total households with One Workers\n",
            "Total workers in households with one workers\n",
            "Main workers in households with One Workers\n",
            "Marginal workers(3-6 months) in households with One Workers\n",
            "Marginal workers(less than 3 months) in households with One Workers\n",
            "Total households with Two Workers\n",
            "Total workers in households with Two Workers\n",
            "Main workers in households with Two Workers\n",
            "Marginal workers(3-6 months) in households with Two Workers\n",
            "Marginal workers(less than 3 months) in households with Two Workers\n",
            "Total households with Three Workers\n",
            "Total workers in households with Three Workers\n",
            "Main workers in households with Three Workers\n",
            "Marginal workers(3-6 months) in households with Three Workers\n",
            "Marginal workers(less than 3 months) in households with Three Workers\n",
            "Total households with Four plus Workers\n",
            "Total workers in households with Four Plus Workers\n",
            "Main workers in households with Four Plus Workers\n",
            "Marginal workers(3-6 months) in households with Four Plus Workers\n",
            "Marginal workers(less than 3 months) in households with Four Plus Workers\n"
          ],
          "name": "stdout"
        }
      ]
    },
    {
      "cell_type": "code",
      "metadata": {
        "id": "roN_O6JFGWXd"
      },
      "source": [
        "copy = dataset.copy()"
      ],
      "execution_count": null,
      "outputs": []
    },
    {
      "cell_type": "code",
      "metadata": {
        "colab": {
          "base_uri": "https://localhost:8080/"
        },
        "id": "ghiciRXbG1TF",
        "outputId": "c0baea40-151b-4ce1-a533-01be3f467037"
      },
      "source": [
        "copy.columns"
      ],
      "execution_count": null,
      "outputs": [
        {
          "output_type": "execute_result",
          "data": {
            "text/plain": [
              "Index(['Code', 'Confirmed', 'Active', 'Recovered', 'Deceased', 'State',\n",
              "       'No_HH', 'TOT_P', 'TOT_M', 'TOT_F',\n",
              "       ...\n",
              "       'Total households with Three Workers',\n",
              "       'Total workers in households with Three Workers',\n",
              "       'Main workers in households with Three Workers',\n",
              "       'Marginal workers(3-6 months) in households with Three Workers',\n",
              "       'Marginal workers(less than 3 months) in households with Three Workers',\n",
              "       'Total households with Four plus Workers',\n",
              "       'Total workers in households with Four Plus Workers',\n",
              "       'Main workers in households with Four Plus Workers',\n",
              "       'Marginal workers(3-6 months) in households with Four Plus Workers',\n",
              "       'Marginal workers(less than 3 months) in households with Four Plus Workers'],\n",
              "      dtype='object', length=184)"
            ]
          },
          "metadata": {
            "tags": []
          },
          "execution_count": 40
        }
      ]
    },
    {
      "cell_type": "code",
      "metadata": {
        "id": "spoTnbJkG3Fi"
      },
      "source": [
        "copy = copy.drop([''], axis = 1)"
      ],
      "execution_count": null,
      "outputs": []
    },
    {
      "cell_type": "markdown",
      "metadata": {
        "id": "BQO2rCCWp33d"
      },
      "source": [
        ""
      ]
    },
    {
      "cell_type": "markdown",
      "metadata": {
        "id": "zGoVh8xzr1Ni"
      },
      "source": [
        "\r\n",
        "Code,District_x,Confirmed,Active,Recovered,Deceased,No_HH,TOT_P,TOT_M,\r\n",
        "P_LIT,TOT_WORK_P,Total number of households_1,Total number of households_2,Total number of households_3,Total number of households_4,Total number of households_5,Total number of households_6-8,Total number of households_9+,percentage_within_premises,percentage_alternative_public,percentage_alternative_open,Total_households,pop_above60,Total Households with None Workers,Total workers in households with one workers"
      ]
    },
    {
      "cell_type": "code",
      "metadata": {
        "id": "icrf0b-myxJB"
      },
      "source": [
        ""
      ],
      "execution_count": null,
      "outputs": []
    },
    {
      "cell_type": "code",
      "metadata": {
        "id": "tLtbaoYluqL3"
      },
      "source": [
        "req = ['Code','District_x','Confirmed','Active','Recovered','Deceased','No_HH','TOT_P', 'P_LIT','TOT_WORK_P','Total number of households_1','Total number of households_2','Total number of households_3','Total number of households_4','Total number of households_5','Total number of households_6-8','Total number of households_9+','percentage_within_premises','percentage_alternative_public','percentage_alternative_open','Total_households','pop_above60','Total Households with None Workers','Total workers in households with one workers']"
      ],
      "execution_count": null,
      "outputs": []
    },
    {
      "cell_type": "code",
      "metadata": {
        "id": "h95-6DYFvFCj"
      },
      "source": [
        "not_req = [x for x in dataset.columns if x not in req]"
      ],
      "execution_count": null,
      "outputs": []
    },
    {
      "cell_type": "code",
      "metadata": {
        "id": "vJopvtd9vKYJ"
      },
      "source": [
        "copy_dataset = dataset.copy()\r\n",
        "copy_dataset = copy_dataset.drop(not_req, axis = 1)"
      ],
      "execution_count": null,
      "outputs": []
    },
    {
      "cell_type": "code",
      "metadata": {
        "colab": {
          "base_uri": "https://localhost:8080/"
        },
        "id": "SOFUJQrSvN7p",
        "outputId": "614cb858-1488-4fcc-dc66-34b3a63eee24"
      },
      "source": [
        "copy_dataset.shape"
      ],
      "execution_count": null,
      "outputs": [
        {
          "output_type": "execute_result",
          "data": {
            "text/plain": [
              "(602, 23)"
            ]
          },
          "metadata": {
            "tags": []
          },
          "execution_count": 76
        }
      ]
    },
    {
      "cell_type": "code",
      "metadata": {
        "colab": {
          "base_uri": "https://localhost:8080/"
        },
        "id": "Yo0b2IZ5vUPB",
        "outputId": "76c09ba9-5009-448a-891d-24474425e2ac"
      },
      "source": [
        "corr = copy_dataset.corr()\r\n",
        "corr['Confirmed']"
      ],
      "execution_count": null,
      "outputs": [
        {
          "output_type": "execute_result",
          "data": {
            "text/plain": [
              "Code                                            0.266302\n",
              "Confirmed                                       1.000000\n",
              "Active                                          0.273176\n",
              "Recovered                                       0.993227\n",
              "Deceased                                        0.869616\n",
              "No_HH                                           0.642554\n",
              "TOT_P                                           0.577184\n",
              "P_LIT                                           0.659827\n",
              "TOT_WORK_P                                      0.615266\n",
              "Total number of households_1                    0.641342\n",
              "Total number of households_2                    0.646103\n",
              "Total number of households_3                    0.675128\n",
              "Total number of households_4                    0.681563\n",
              "Total number of households_5                    0.604901\n",
              "Total number of households_6-8                  0.381416\n",
              "Total number of households_9+                   0.183698\n",
              "percentage_within_premises                      0.244329\n",
              "percentage_alternative_public                   0.273220\n",
              "percentage_alternative_open                    -0.274558\n",
              "Total_households                                0.641940\n",
              "pop_above60                                     0.613437\n",
              "Total Households with None Workers              0.609021\n",
              "Total workers in households with one workers    0.623236\n",
              "Name: Confirmed, dtype: float64"
            ]
          },
          "metadata": {
            "tags": []
          },
          "execution_count": 77
        }
      ]
    },
    {
      "cell_type": "code",
      "metadata": {
        "colab": {
          "base_uri": "https://localhost:8080/",
          "height": 1000
        },
        "id": "lYSYWhuLvajp",
        "outputId": "206dfbd2-0991-449a-cb1c-eb3123b4ad27"
      },
      "source": [
        "from pandas.plotting import scatter_matrix\r\n",
        "for i in copy_dataset.columns:\r\n",
        "  plt.scatter(dataset[i], dataset['Confirmed'])\r\n",
        "  plt.xlabel(i)\r\n",
        "  plt.ylabel('Confirmed')\r\n",
        "  plt.title(f'{i} vs Confirmed')\r\n",
        "  plt.show()"
      ],
      "execution_count": null,
      "outputs": [
        {
          "output_type": "display_data",
          "data": {
            "image/png": "[encoded data removed]",
            "text/plain": [
              "<Figure size 432x288 with 1 Axes>"
            ]
          },
          "metadata": {
            "tags": [],
            "needs_background": "light"
          }
        },
        {
          "output_type": "display_data",
          "data": {
            "image/png": "[encoded data removed]",
            "text/plain": [
              "<Figure size 432x288 with 1 Axes>"
            ]
          },
          "metadata": {
            "tags": [],
            "needs_background": "light"
          }
        },
        {
          "output_type": "display_data",
          "data": {
            "image/png": "[encoded data removed]",
            "text/plain": [
              "<Figure size 432x288 with 1 Axes>"
            ]
          },
          "metadata": {
            "tags": [],
            "needs_background": "light"
          }
        },
        {
          "output_type": "display_data",
          "data": {
            "image/png": "[encoded data removed]",
            "text/plain": [
              "<Figure size 432x288 with 1 Axes>"
            ]
          },
          "metadata": {
            "tags": [],
            "needs_background": "light"
          }
        },
        {
          "output_type": "display_data",
          "data": {
            "image/png": "[encoded data removed]",
            "text/plain": [
              "<Figure size 432x288 with 1 Axes>"
            ]
          },
          "metadata": {
            "tags": [],
            "needs_background": "light"
          }
        },
        {
          "output_type": "display_data",
          "data": {
            "image/png": "[encoded data removed]",
            "text/plain": [
              "<Figure size 432x288 with 1 Axes>"
            ]
          },
          "metadata": {
            "tags": [],
            "needs_background": "light"
          }
        },
        {
          "output_type": "display_data",
          "data": {
            "image/png": "[encoded data removed]",
            "text/plain": [
              "<Figure size 432x288 with 1 Axes>"
            ]
          },
          "metadata": {
            "tags": [],
            "needs_background": "light"
          }
        },
        {
          "output_type": "display_data",
          "data": {
            "image/png": "[encoded data removed]",
            "text/plain": [
              "<Figure size 432x288 with 1 Axes>"
            ]
          },
          "metadata": {
            "tags": [],
            "needs_background": "light"
          }
        },
        {
          "output_type": "display_data",
          "data": {
            "image/png": "[encoded data removed]",
            "text/plain": [
              "<Figure size 432x288 with 1 Axes>"
            ]
          },
          "metadata": {
            "tags": [],
            "needs_background": "light"
          }
        },
        {
          "output_type": "display_data",
          "data": {
            "image/png": "[encoded data removed]",
            "text/plain": [
              "<Figure size 432x288 with 1 Axes>"
            ]
          },
          "metadata": {
            "tags": [],
            "needs_background": "light"
          }
        },
        {
          "output_type": "display_data",
          "data": {
            "image/png": "[encoded data removed]",
            "text/plain": [
              "<Figure size 432x288 with 1 Axes>"
            ]
          },
          "metadata": {
            "tags": [],
            "needs_background": "light"
          }
        },
        {
          "output_type": "display_data",
          "data": {
            "image/png": "[encoded data removed]",
            "text/plain": [
              "<Figure size 432x288 with 1 Axes>"
            ]
          },
          "metadata": {
            "tags": [],
            "needs_background": "light"
          }
        },
        {
          "output_type": "display_data",
          "data": {
            "image/png": "[encoded data removed]",
            "text/plain": [
              "<Figure size 432x288 with 1 Axes>"
            ]
          },
          "metadata": {
            "tags": [],
            "needs_background": "light"
          }
        },
        {
          "output_type": "display_data",
          "data": {
            "image/png": "[encoded data removed]",
            "text/plain": [
              "<Figure size 432x288 with 1 Axes>"
            ]
          },
          "metadata": {
            "tags": [],
            "needs_background": "light"
          }
        },
        {
          "output_type": "display_data",
          "data": {
            "image/png": "[encoded data removed]",
            "text/plain": [
              "<Figure size 432x288 with 1 Axes>"
            ]
          },
          "metadata": {
            "tags": [],
            "needs_background": "light"
          }
        },
        {
          "output_type": "display_data",
          "data": {
            "image/png": "[encoded data removed]",
            "text/plain": [
              "<Figure size 432x288 with 1 Axes>"
            ]
          },
          "metadata": {
            "tags": [],
            "needs_background": "light"
          }
        },
        {
          "output_type": "display_data",
          "data": {
            "image/png": "[encoded data removed]",
            "text/plain": [
              "<Figure size 432x288 with 1 Axes>"
            ]
          },
          "metadata": {
            "tags": [],
            "needs_background": "light"
          }
        },
        {
          "output_type": "display_data",
          "data": {
            "image/png": "[encoded data removed]",
            "text/plain": [
              "<Figure size 432x288 with 1 Axes>"
            ]
          },
          "metadata": {
            "tags": [],
            "needs_background": "light"
          }
        },
        {
          "output_type": "display_data",
          "data": {
            "image/png": "[encoded data removed]",
            "text/plain": [
              "<Figure size 432x288 with 1 Axes>"
            ]
          },
          "metadata": {
            "tags": [],
            "needs_background": "light"
          }
        },
        {
          "output_type": "display_data",
          "data": {
            "image/png": "[encoded data removed]",
            "text/plain": [
              "<Figure size 432x288 with 1 Axes>"
            ]
          },
          "metadata": {
            "tags": [],
            "needs_background": "light"
          }
        },
        {
          "output_type": "display_data",
          "data": {
            "image/png": "[encoded data removed]",
            "text/plain": [
              "<Figure size 432x288 with 1 Axes>"
            ]
          },
          "metadata": {
            "tags": [],
            "needs_background": "light"
          }
        },
        {
          "output_type": "display_data",
          "data": {
            "image/png": "[encoded data removed]",
            "text/plain": [
              "<Figure size 432x288 with 1 Axes>"
            ]
          },
          "metadata": {
            "tags": [],
            "needs_background": "light"
          }
        },
        {
          "output_type": "display_data",
          "data": {
            "image/png": "[encoded data removed]",
            "text/plain": [
              "<Figure size 432x288 with 1 Axes>"
            ]
          },
          "metadata": {
            "tags": [],
            "needs_background": "light"
          }
        }
      ]
    },
    {
      "cell_type": "markdown",
      "metadata": {
        "id": "HFAIykmxxI3k"
      },
      "source": [
        "KMeans Clustering"
      ]
    },
    {
      "cell_type": "code",
      "metadata": {
        "id": "GO0sSMa1vjvR",
        "colab": {
          "base_uri": "https://localhost:8080/"
        },
        "outputId": "37f6af00-0018-495d-90eb-8fc24508d46c"
      },
      "source": [
        "from sklearn.cluster import KMeans\r\n",
        "wcss = []\r\n",
        "for i in range(1, 602):\r\n",
        "  kmeans = KMeans(n_clusters=i, init='k-means++', random_state=42)\r\n",
        "  kmeans.fit(copy_dataset)\r\n",
        "  wcss.append(kmeans.inertia_)\r\n",
        "  print(len(wcss))\r\n",
        "plt.plot(range(1, 602), wcss)\r\n",
        "plt.title(\"Number of clusters vs WCSS\")\r\n",
        "plt.xlabel('Number of clusters')\r\n",
        "plt.ylabel('WCSS')\r\n",
        "plt.show()"
      ],
      "execution_count": null,
      "outputs": [
        {
          "output_type": "stream",
          "text": [
            "1\n",
            "2\n",
            "3\n",
            "4\n",
            "5\n",
            "6\n",
            "7\n",
            "8\n",
            "9\n",
            "10\n",
            "11\n",
            "12\n",
            "13\n",
            "14\n",
            "15\n",
            "16\n",
            "17\n",
            "18\n",
            "19\n",
            "20\n",
            "21\n",
            "22\n",
            "23\n",
            "24\n",
            "25\n",
            "26\n",
            "27\n",
            "28\n",
            "29\n",
            "30\n",
            "31\n",
            "32\n",
            "33\n",
            "34\n",
            "35\n",
            "36\n",
            "37\n",
            "38\n",
            "39\n",
            "40\n",
            "41\n",
            "42\n",
            "43\n",
            "44\n",
            "45\n",
            "46\n",
            "47\n",
            "48\n",
            "49\n",
            "50\n",
            "51\n",
            "52\n",
            "53\n",
            "54\n",
            "55\n",
            "56\n",
            "57\n",
            "58\n",
            "59\n",
            "60\n",
            "61\n",
            "62\n",
            "63\n",
            "64\n",
            "65\n",
            "66\n",
            "67\n",
            "68\n",
            "69\n",
            "70\n",
            "71\n",
            "72\n",
            "73\n",
            "74\n",
            "75\n",
            "76\n",
            "77\n",
            "78\n",
            "79\n",
            "80\n",
            "81\n",
            "82\n",
            "83\n",
            "84\n",
            "85\n",
            "86\n",
            "87\n",
            "88\n",
            "89\n",
            "90\n",
            "91\n",
            "92\n",
            "93\n",
            "94\n",
            "95\n",
            "96\n",
            "97\n",
            "98\n",
            "99\n",
            "100\n",
            "101\n",
            "102\n",
            "103\n",
            "104\n",
            "105\n",
            "106\n",
            "107\n",
            "108\n",
            "109\n",
            "110\n",
            "111\n",
            "112\n",
            "113\n",
            "114\n",
            "115\n",
            "116\n",
            "117\n",
            "118\n",
            "119\n",
            "120\n",
            "121\n",
            "122\n",
            "123\n",
            "124\n",
            "125\n",
            "126\n",
            "127\n",
            "128\n",
            "129\n",
            "130\n",
            "131\n",
            "132\n",
            "133\n",
            "134\n",
            "135\n",
            "136\n",
            "137\n",
            "138\n",
            "139\n",
            "140\n",
            "141\n",
            "142\n",
            "143\n",
            "144\n",
            "145\n",
            "146\n",
            "147\n",
            "148\n",
            "149\n",
            "150\n",
            "151\n",
            "152\n",
            "153\n",
            "154\n",
            "155\n",
            "156\n",
            "157\n",
            "158\n",
            "159\n",
            "160\n",
            "161\n",
            "162\n",
            "163\n",
            "164\n",
            "165\n",
            "166\n",
            "167\n",
            "168\n",
            "169\n",
            "170\n",
            "171\n",
            "172\n",
            "173\n",
            "174\n",
            "175\n",
            "176\n",
            "177\n",
            "178\n",
            "179\n",
            "180\n",
            "181\n",
            "182\n",
            "183\n",
            "184\n",
            "185\n",
            "186\n",
            "187\n",
            "188\n",
            "189\n",
            "190\n",
            "191\n",
            "192\n",
            "193\n",
            "194\n",
            "195\n",
            "196\n",
            "197\n",
            "198\n",
            "199\n",
            "200\n",
            "201\n",
            "202\n",
            "203\n",
            "204\n",
            "205\n",
            "206\n",
            "207\n",
            "208\n",
            "209\n",
            "210\n",
            "211\n",
            "212\n",
            "213\n",
            "214\n",
            "215\n",
            "216\n",
            "217\n",
            "218\n",
            "219\n",
            "220\n",
            "221\n",
            "222\n",
            "223\n",
            "224\n",
            "225\n",
            "226\n",
            "227\n",
            "228\n",
            "229\n",
            "230\n",
            "231\n",
            "232\n",
            "233\n",
            "234\n",
            "235\n",
            "236\n",
            "237\n",
            "238\n",
            "239\n",
            "240\n",
            "241\n",
            "242\n",
            "243\n",
            "244\n",
            "245\n",
            "246\n",
            "247\n",
            "248\n",
            "249\n",
            "250\n",
            "251\n",
            "252\n",
            "253\n",
            "254\n",
            "255\n",
            "256\n",
            "257\n",
            "258\n",
            "259\n",
            "260\n",
            "261\n",
            "262\n",
            "263\n",
            "264\n",
            "265\n",
            "266\n",
            "267\n",
            "268\n",
            "269\n",
            "270\n",
            "271\n",
            "272\n",
            "273\n",
            "274\n",
            "275\n",
            "276\n",
            "277\n",
            "278\n",
            "279\n",
            "280\n",
            "281\n",
            "282\n",
            "283\n",
            "284\n",
            "285\n",
            "286\n",
            "287\n",
            "288\n",
            "289\n",
            "290\n",
            "291\n",
            "292\n",
            "293\n",
            "294\n",
            "295\n",
            "296\n",
            "297\n",
            "298\n",
            "299\n",
            "300\n",
            "301\n",
            "302\n",
            "303\n",
            "304\n",
            "305\n",
            "306\n",
            "307\n",
            "308\n",
            "309\n",
            "310\n",
            "311\n",
            "312\n",
            "313\n",
            "314\n",
            "315\n",
            "316\n",
            "317\n",
            "318\n",
            "319\n",
            "320\n",
            "321\n",
            "322\n",
            "323\n",
            "324\n",
            "325\n",
            "326\n",
            "327\n",
            "328\n",
            "329\n",
            "330\n",
            "331\n",
            "332\n",
            "333\n",
            "334\n",
            "335\n",
            "336\n",
            "337\n",
            "338\n",
            "339\n",
            "340\n",
            "341\n",
            "342\n",
            "343\n",
            "344\n",
            "345\n",
            "346\n",
            "347\n",
            "348\n",
            "349\n",
            "350\n",
            "351\n",
            "352\n",
            "353\n",
            "354\n",
            "355\n",
            "356\n",
            "357\n",
            "358\n",
            "359\n",
            "360\n",
            "361\n",
            "362\n",
            "363\n",
            "364\n",
            "365\n",
            "366\n",
            "367\n",
            "368\n",
            "369\n",
            "370\n",
            "371\n",
            "372\n",
            "373\n",
            "374\n",
            "375\n",
            "376\n",
            "377\n",
            "378\n",
            "379\n",
            "380\n",
            "381\n",
            "382\n",
            "383\n",
            "384\n",
            "385\n",
            "386\n",
            "387\n",
            "388\n",
            "389\n",
            "390\n",
            "391\n",
            "392\n",
            "393\n",
            "394\n",
            "395\n",
            "396\n",
            "397\n",
            "398\n",
            "399\n",
            "400\n",
            "401\n",
            "402\n",
            "403\n",
            "404\n",
            "405\n",
            "406\n",
            "407\n",
            "408\n",
            "409\n",
            "410\n",
            "411\n",
            "412\n",
            "413\n",
            "414\n",
            "415\n",
            "416\n",
            "417\n",
            "418\n",
            "419\n",
            "420\n",
            "421\n",
            "422\n",
            "423\n",
            "424\n",
            "425\n",
            "426\n",
            "427\n",
            "428\n",
            "429\n",
            "430\n",
            "431\n",
            "432\n",
            "433\n",
            "434\n",
            "435\n",
            "436\n",
            "437\n",
            "438\n",
            "439\n",
            "440\n",
            "441\n",
            "442\n",
            "443\n",
            "444\n",
            "445\n",
            "446\n",
            "447\n",
            "448\n",
            "449\n",
            "450\n",
            "451\n",
            "452\n",
            "453\n",
            "454\n",
            "455\n",
            "456\n",
            "457\n",
            "458\n",
            "459\n",
            "460\n",
            "461\n",
            "462\n",
            "463\n",
            "464\n",
            "465\n",
            "466\n",
            "467\n",
            "468\n",
            "469\n",
            "470\n",
            "471\n",
            "472\n",
            "473\n",
            "474\n",
            "475\n",
            "476\n",
            "477\n",
            "478\n",
            "479\n",
            "480\n",
            "481\n",
            "482\n",
            "483\n",
            "484\n",
            "485\n",
            "486\n",
            "487\n",
            "488\n",
            "489\n",
            "490\n",
            "491\n",
            "492\n",
            "493\n",
            "494\n",
            "495\n",
            "496\n",
            "497\n",
            "498\n",
            "499\n",
            "500\n",
            "501\n",
            "502\n",
            "503\n",
            "504\n",
            "505\n",
            "506\n",
            "507\n",
            "508\n",
            "509\n",
            "510\n",
            "511\n",
            "512\n",
            "513\n",
            "514\n",
            "515\n",
            "516\n",
            "517\n",
            "518\n",
            "519\n",
            "520\n",
            "521\n",
            "522\n",
            "523\n",
            "524\n",
            "525\n",
            "526\n",
            "527\n",
            "528\n",
            "529\n",
            "530\n",
            "531\n",
            "532\n",
            "533\n",
            "534\n",
            "535\n",
            "536\n",
            "537\n",
            "538\n",
            "539\n",
            "540\n",
            "541\n",
            "542\n",
            "543\n",
            "544\n",
            "545\n",
            "546\n",
            "547\n",
            "548\n",
            "549\n",
            "550\n",
            "551\n",
            "552\n",
            "553\n",
            "554\n",
            "555\n",
            "556\n",
            "557\n",
            "558\n",
            "559\n",
            "560\n",
            "561\n",
            "562\n",
            "563\n",
            "564\n",
            "565\n",
            "566\n",
            "567\n",
            "568\n",
            "569\n",
            "570\n",
            "571\n",
            "572\n",
            "573\n",
            "574\n",
            "575\n",
            "576\n",
            "577\n",
            "578\n",
            "579\n",
            "580\n",
            "581\n",
            "582\n",
            "583\n",
            "584\n",
            "585\n",
            "586\n",
            "587\n",
            "588\n",
            "589\n",
            "590\n",
            "591\n",
            "592\n",
            "593\n",
            "594\n",
            "595\n",
            "596\n",
            "597\n",
            "598\n",
            "599\n",
            "600\n",
            "601\n"
          ],
          "name": "stdout"
        },
        {
          "output_type": "display_data",
          "data": {
            "image/png": "[encoded data removed]",
            "text/plain": [
              "<Figure size 432x288 with 1 Axes>"
            ]
          },
          "metadata": {
            "tags": [],
            "needs_background": "light"
          }
        }
      ]
    },
    {
      "cell_type": "code",
      "metadata": {
        "id": "jlaYFkijx551"
      },
      "source": [
        "copy_dataset.to_csv('donefinal.csv')"
      ],
      "execution_count": null,
      "outputs": []
    },
    {
      "cell_type": "code",
      "metadata": {
        "id": "ngHGMDsL7-VM"
      },
      "source": [
        ""
      ],
      "execution_count": null,
      "outputs": []
    }
  ]
}